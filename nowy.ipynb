{
 "cells": [
  {
   "cell_type": "markdown",
   "metadata": {},
   "source": [
    "# We are asked by the financial/operations department to build a forecasting model to predict sales of every exact order "
   ]
  },
  {
   "cell_type": "code",
   "execution_count": 1,
   "metadata": {},
   "outputs": [],
   "source": [
    "import numpy as np\n",
    "import pandas as pd\n",
    "import seaborn as sns\n",
    "import matplotlib.pyplot as plt"
   ]
  },
  {
   "cell_type": "code",
   "execution_count": 2,
   "metadata": {},
   "outputs": [],
   "source": [
    "df = pd.read_csv(\"DF.csv\",delimiter =';',index_col='id',decimal = ',')"
   ]
  },
  {
   "cell_type": "code",
   "execution_count": 3,
   "metadata": {},
   "outputs": [
    {
     "data": {
      "text/html": [
       "<div>\n",
       "<style scoped>\n",
       "    .dataframe tbody tr th:only-of-type {\n",
       "        vertical-align: middle;\n",
       "    }\n",
       "\n",
       "    .dataframe tbody tr th {\n",
       "        vertical-align: top;\n",
       "    }\n",
       "\n",
       "    .dataframe thead th {\n",
       "        text-align: right;\n",
       "    }\n",
       "</style>\n",
       "<table border=\"1\" class=\"dataframe\">\n",
       "  <thead>\n",
       "    <tr style=\"text-align: right;\">\n",
       "      <th></th>\n",
       "      <th>Type</th>\n",
       "      <th>exog1</th>\n",
       "      <th>exog2</th>\n",
       "      <th>BUSINESS PARTNER</th>\n",
       "      <th>ORDER NO.</th>\n",
       "      <th>SALES INVOICES</th>\n",
       "      <th>COST INVOICES</th>\n",
       "      <th>CLIENT</th>\n",
       "      <th>EMPLOYEE</th>\n",
       "      <th>Product</th>\n",
       "      <th>CATEGORY</th>\n",
       "      <th>sales</th>\n",
       "      <th>costs</th>\n",
       "    </tr>\n",
       "    <tr>\n",
       "      <th>id</th>\n",
       "      <th></th>\n",
       "      <th></th>\n",
       "      <th></th>\n",
       "      <th></th>\n",
       "      <th></th>\n",
       "      <th></th>\n",
       "      <th></th>\n",
       "      <th></th>\n",
       "      <th></th>\n",
       "      <th></th>\n",
       "      <th></th>\n",
       "      <th></th>\n",
       "      <th></th>\n",
       "    </tr>\n",
       "  </thead>\n",
       "  <tbody>\n",
       "    <tr>\n",
       "      <th>1</th>\n",
       "      <td>A</td>\n",
       "      <td>9.80</td>\n",
       "      <td>1750.0</td>\n",
       "      <td>AA LTD.</td>\n",
       "      <td>0001_XYZ</td>\n",
       "      <td>1.0</td>\n",
       "      <td>2.0</td>\n",
       "      <td>A&amp;A Sp. z o.o.</td>\n",
       "      <td>Cezary Jaworski</td>\n",
       "      <td>apple</td>\n",
       "      <td>sweet</td>\n",
       "      <td>6211.66</td>\n",
       "      <td>3498.95</td>\n",
       "    </tr>\n",
       "    <tr>\n",
       "      <th>2</th>\n",
       "      <td>B</td>\n",
       "      <td>4.90</td>\n",
       "      <td>2856.0</td>\n",
       "      <td>AB LTD.</td>\n",
       "      <td>0002_XYZ</td>\n",
       "      <td>2.0</td>\n",
       "      <td>1.0</td>\n",
       "      <td>A&amp;B Sp. z o.o.</td>\n",
       "      <td>Kamil Mazurek</td>\n",
       "      <td>apple</td>\n",
       "      <td>sweet</td>\n",
       "      <td>1532.02</td>\n",
       "      <td>-2979.62</td>\n",
       "    </tr>\n",
       "    <tr>\n",
       "      <th>3</th>\n",
       "      <td>B</td>\n",
       "      <td>32.27</td>\n",
       "      <td>3444.0</td>\n",
       "      <td>AB LTD.</td>\n",
       "      <td>0003_XYZ</td>\n",
       "      <td>1.0</td>\n",
       "      <td>NaN</td>\n",
       "      <td>A&amp;C Sp. z o.o.</td>\n",
       "      <td>Alex Lewandowski</td>\n",
       "      <td>apple</td>\n",
       "      <td>sweet</td>\n",
       "      <td>1891.47</td>\n",
       "      <td>0.00</td>\n",
       "    </tr>\n",
       "    <tr>\n",
       "      <th>4</th>\n",
       "      <td>B</td>\n",
       "      <td>7.00</td>\n",
       "      <td>133.0</td>\n",
       "      <td>AB LTD.</td>\n",
       "      <td>0004_XYZ</td>\n",
       "      <td>1.0</td>\n",
       "      <td>NaN</td>\n",
       "      <td>A&amp;C Sp. z o.o.</td>\n",
       "      <td>Alex Lewandowski</td>\n",
       "      <td>apple</td>\n",
       "      <td>sweet</td>\n",
       "      <td>410.20</td>\n",
       "      <td>0.00</td>\n",
       "    </tr>\n",
       "    <tr>\n",
       "      <th>5</th>\n",
       "      <td>B</td>\n",
       "      <td>24.50</td>\n",
       "      <td>24857.0</td>\n",
       "      <td>AB LTD.</td>\n",
       "      <td>0005_XYZ</td>\n",
       "      <td>1.0</td>\n",
       "      <td>NaN</td>\n",
       "      <td>A&amp;C Sp. z o.o.</td>\n",
       "      <td>Alex Lewandowski</td>\n",
       "      <td>apple</td>\n",
       "      <td>sweet</td>\n",
       "      <td>1435.98</td>\n",
       "      <td>0.00</td>\n",
       "    </tr>\n",
       "  </tbody>\n",
       "</table>\n",
       "</div>"
      ],
      "text/plain": [
       "   Type  exog1    exog2 BUSINESS PARTNER ORDER NO.  SALES INVOICES  \\\n",
       "id                                                                   \n",
       "1     A   9.80   1750.0         AA LTD.   0001_XYZ             1.0   \n",
       "2     B   4.90   2856.0         AB LTD.   0002_XYZ             2.0   \n",
       "3     B  32.27   3444.0         AB LTD.   0003_XYZ             1.0   \n",
       "4     B   7.00    133.0         AB LTD.   0004_XYZ             1.0   \n",
       "5     B  24.50  24857.0         AB LTD.   0005_XYZ             1.0   \n",
       "\n",
       "    COST INVOICES          CLIENT          EMPLOYEE Product CATEGORY    sales  \\\n",
       "id                                                                              \n",
       "1             2.0  A&A Sp. z o.o.   Cezary Jaworski   apple    sweet  6211.66   \n",
       "2             1.0  A&B Sp. z o.o.     Kamil Mazurek   apple    sweet  1532.02   \n",
       "3             NaN  A&C Sp. z o.o.  Alex Lewandowski   apple    sweet  1891.47   \n",
       "4             NaN  A&C Sp. z o.o.  Alex Lewandowski   apple    sweet   410.20   \n",
       "5             NaN  A&C Sp. z o.o.  Alex Lewandowski   apple    sweet  1435.98   \n",
       "\n",
       "      costs  \n",
       "id           \n",
       "1   3498.95  \n",
       "2  -2979.62  \n",
       "3      0.00  \n",
       "4      0.00  \n",
       "5      0.00  "
      ]
     },
     "execution_count": 3,
     "metadata": {},
     "output_type": "execute_result"
    }
   ],
   "source": [
    "df.head()"
   ]
  },
  {
   "cell_type": "code",
   "execution_count": 4,
   "metadata": {},
   "outputs": [
    {
     "data": {
      "text/html": [
       "<div>\n",
       "<style scoped>\n",
       "    .dataframe tbody tr th:only-of-type {\n",
       "        vertical-align: middle;\n",
       "    }\n",
       "\n",
       "    .dataframe tbody tr th {\n",
       "        vertical-align: top;\n",
       "    }\n",
       "\n",
       "    .dataframe thead th {\n",
       "        text-align: right;\n",
       "    }\n",
       "</style>\n",
       "<table border=\"1\" class=\"dataframe\">\n",
       "  <thead>\n",
       "    <tr style=\"text-align: right;\">\n",
       "      <th></th>\n",
       "      <th>Type</th>\n",
       "      <th>exog1</th>\n",
       "      <th>exog2</th>\n",
       "      <th>BUSINESS PARTNER</th>\n",
       "      <th>ORDER NO.</th>\n",
       "      <th>SALES INVOICES</th>\n",
       "      <th>COST INVOICES</th>\n",
       "      <th>CLIENT</th>\n",
       "      <th>EMPLOYEE</th>\n",
       "      <th>Product</th>\n",
       "      <th>CATEGORY</th>\n",
       "      <th>sales</th>\n",
       "      <th>costs</th>\n",
       "    </tr>\n",
       "    <tr>\n",
       "      <th>id</th>\n",
       "      <th></th>\n",
       "      <th></th>\n",
       "      <th></th>\n",
       "      <th></th>\n",
       "      <th></th>\n",
       "      <th></th>\n",
       "      <th></th>\n",
       "      <th></th>\n",
       "      <th></th>\n",
       "      <th></th>\n",
       "      <th></th>\n",
       "      <th></th>\n",
       "      <th></th>\n",
       "    </tr>\n",
       "  </thead>\n",
       "  <tbody>\n",
       "    <tr>\n",
       "      <th>3127</th>\n",
       "      <td>A</td>\n",
       "      <td>35.210</td>\n",
       "      <td>2674.0</td>\n",
       "      <td>CO LTD.</td>\n",
       "      <td>0003127_XYZ</td>\n",
       "      <td>NaN</td>\n",
       "      <td>NaN</td>\n",
       "      <td>A&amp;D Sp. z o.o.</td>\n",
       "      <td>Konrad Szczepański</td>\n",
       "      <td>apple</td>\n",
       "      <td>sweet</td>\n",
       "      <td>0.0</td>\n",
       "      <td>0.0</td>\n",
       "    </tr>\n",
       "    <tr>\n",
       "      <th>3128</th>\n",
       "      <td>A</td>\n",
       "      <td>12.600</td>\n",
       "      <td>1358.0</td>\n",
       "      <td>CO LTD.</td>\n",
       "      <td>0003128_XYZ</td>\n",
       "      <td>NaN</td>\n",
       "      <td>NaN</td>\n",
       "      <td>A&amp;D Sp. z o.o.</td>\n",
       "      <td>Konrad Szczepański</td>\n",
       "      <td>apple</td>\n",
       "      <td>sweet</td>\n",
       "      <td>0.0</td>\n",
       "      <td>0.0</td>\n",
       "    </tr>\n",
       "    <tr>\n",
       "      <th>3129</th>\n",
       "      <td>A</td>\n",
       "      <td>21.770</td>\n",
       "      <td>3850.0</td>\n",
       "      <td>GT LTD.</td>\n",
       "      <td>0003129_XYZ</td>\n",
       "      <td>NaN</td>\n",
       "      <td>NaN</td>\n",
       "      <td>A&amp;D Sp. z o.o.</td>\n",
       "      <td>Klara Kowalska</td>\n",
       "      <td>apple</td>\n",
       "      <td>sweet</td>\n",
       "      <td>0.0</td>\n",
       "      <td>0.0</td>\n",
       "    </tr>\n",
       "    <tr>\n",
       "      <th>3130</th>\n",
       "      <td>A</td>\n",
       "      <td>290.710</td>\n",
       "      <td>23856.0</td>\n",
       "      <td>CO LTD.</td>\n",
       "      <td>0003130_XYZ</td>\n",
       "      <td>NaN</td>\n",
       "      <td>NaN</td>\n",
       "      <td>A&amp;D Sp. z o.o.</td>\n",
       "      <td>Klara Kowalska</td>\n",
       "      <td>apple</td>\n",
       "      <td>sweet</td>\n",
       "      <td>0.0</td>\n",
       "      <td>0.0</td>\n",
       "    </tr>\n",
       "    <tr>\n",
       "      <th>3131</th>\n",
       "      <td>NaN</td>\n",
       "      <td>182.665</td>\n",
       "      <td>NaN</td>\n",
       "      <td>NaN</td>\n",
       "      <td>NaN</td>\n",
       "      <td>NaN</td>\n",
       "      <td>NaN</td>\n",
       "      <td>NaN</td>\n",
       "      <td>NaN</td>\n",
       "      <td>NaN</td>\n",
       "      <td>NaN</td>\n",
       "      <td>NaN</td>\n",
       "      <td>NaN</td>\n",
       "    </tr>\n",
       "  </tbody>\n",
       "</table>\n",
       "</div>"
      ],
      "text/plain": [
       "     Type    exog1    exog2 BUSINESS PARTNER    ORDER NO.  SALES INVOICES  \\\n",
       "id                                                                          \n",
       "3127    A   35.210   2674.0         CO LTD.   0003127_XYZ             NaN   \n",
       "3128    A   12.600   1358.0         CO LTD.   0003128_XYZ             NaN   \n",
       "3129    A   21.770   3850.0         GT LTD.   0003129_XYZ             NaN   \n",
       "3130    A  290.710  23856.0         CO LTD.   0003130_XYZ             NaN   \n",
       "3131  NaN  182.665      NaN              NaN          NaN             NaN   \n",
       "\n",
       "      COST INVOICES          CLIENT            EMPLOYEE Product CATEGORY  \\\n",
       "id                                                                         \n",
       "3127            NaN  A&D Sp. z o.o.  Konrad Szczepański   apple    sweet   \n",
       "3128            NaN  A&D Sp. z o.o.  Konrad Szczepański   apple    sweet   \n",
       "3129            NaN  A&D Sp. z o.o.      Klara Kowalska   apple    sweet   \n",
       "3130            NaN  A&D Sp. z o.o.      Klara Kowalska   apple    sweet   \n",
       "3131            NaN             NaN                 NaN     NaN      NaN   \n",
       "\n",
       "      sales  costs  \n",
       "id                  \n",
       "3127    0.0    0.0  \n",
       "3128    0.0    0.0  \n",
       "3129    0.0    0.0  \n",
       "3130    0.0    0.0  \n",
       "3131    NaN    NaN  "
      ]
     },
     "execution_count": 4,
     "metadata": {},
     "output_type": "execute_result"
    }
   ],
   "source": [
    "df.tail()"
   ]
  },
  {
   "cell_type": "code",
   "execution_count": 5,
   "metadata": {},
   "outputs": [],
   "source": [
    "df = df.iloc[:-1]"
   ]
  },
  {
   "cell_type": "markdown",
   "metadata": {},
   "source": [
    "# GENERAL ANALYSIS"
   ]
  },
  {
   "cell_type": "code",
   "execution_count": 6,
   "metadata": {},
   "outputs": [
    {
     "name": "stdout",
     "output_type": "stream",
     "text": [
      "<class 'pandas.core.frame.DataFrame'>\n",
      "Int64Index: 3130 entries, 1 to 3130\n",
      "Data columns (total 13 columns):\n",
      " #   Column            Non-Null Count  Dtype  \n",
      "---  ------            --------------  -----  \n",
      " 0   Type              3130 non-null   object \n",
      " 1   exog1             3130 non-null   float64\n",
      " 2   exog2             3130 non-null   float64\n",
      " 3   BUSINESS PARTNER  3053 non-null   object \n",
      " 4   ORDER NO.         3130 non-null   object \n",
      " 5   SALES INVOICES    2381 non-null   float64\n",
      " 6   COST INVOICES     1708 non-null   float64\n",
      " 7   CLIENT            3130 non-null   object \n",
      " 8   EMPLOYEE          3086 non-null   object \n",
      " 9   Product           3130 non-null   object \n",
      " 10  CATEGORY          3130 non-null   object \n",
      " 11  sales             3130 non-null   float64\n",
      " 12  costs             3130 non-null   float64\n",
      "dtypes: float64(6), object(7)\n",
      "memory usage: 342.3+ KB\n"
     ]
    }
   ],
   "source": [
    "df.info()"
   ]
  },
  {
   "cell_type": "code",
   "execution_count": 7,
   "metadata": {},
   "outputs": [
    {
     "data": {
      "text/html": [
       "<div>\n",
       "<style scoped>\n",
       "    .dataframe tbody tr th:only-of-type {\n",
       "        vertical-align: middle;\n",
       "    }\n",
       "\n",
       "    .dataframe tbody tr th {\n",
       "        vertical-align: top;\n",
       "    }\n",
       "\n",
       "    .dataframe thead th {\n",
       "        text-align: right;\n",
       "    }\n",
       "</style>\n",
       "<table border=\"1\" class=\"dataframe\">\n",
       "  <thead>\n",
       "    <tr style=\"text-align: right;\">\n",
       "      <th></th>\n",
       "      <th>count</th>\n",
       "      <th>mean</th>\n",
       "      <th>std</th>\n",
       "      <th>min</th>\n",
       "      <th>25%</th>\n",
       "      <th>50%</th>\n",
       "      <th>75%</th>\n",
       "      <th>max</th>\n",
       "    </tr>\n",
       "  </thead>\n",
       "  <tbody>\n",
       "    <tr>\n",
       "      <th>exog1</th>\n",
       "      <td>3130.0</td>\n",
       "      <td>58.358530</td>\n",
       "      <td>884.006782</td>\n",
       "      <td>0.00</td>\n",
       "      <td>10.4300</td>\n",
       "      <td>26.705</td>\n",
       "      <td>58.1525</td>\n",
       "      <td>49427.00</td>\n",
       "    </tr>\n",
       "    <tr>\n",
       "      <th>exog2</th>\n",
       "      <td>3130.0</td>\n",
       "      <td>12252.889457</td>\n",
       "      <td>16125.153108</td>\n",
       "      <td>0.00</td>\n",
       "      <td>2674.0000</td>\n",
       "      <td>6643.000</td>\n",
       "      <td>15190.0000</td>\n",
       "      <td>177940.00</td>\n",
       "    </tr>\n",
       "    <tr>\n",
       "      <th>SALES INVOICES</th>\n",
       "      <td>2381.0</td>\n",
       "      <td>1.289374</td>\n",
       "      <td>0.538291</td>\n",
       "      <td>1.00</td>\n",
       "      <td>1.0000</td>\n",
       "      <td>1.000</td>\n",
       "      <td>2.0000</td>\n",
       "      <td>8.00</td>\n",
       "    </tr>\n",
       "    <tr>\n",
       "      <th>COST INVOICES</th>\n",
       "      <td>1708.0</td>\n",
       "      <td>1.726581</td>\n",
       "      <td>0.916334</td>\n",
       "      <td>1.00</td>\n",
       "      <td>1.0000</td>\n",
       "      <td>2.000</td>\n",
       "      <td>2.0000</td>\n",
       "      <td>9.00</td>\n",
       "    </tr>\n",
       "    <tr>\n",
       "      <th>sales</th>\n",
       "      <td>3130.0</td>\n",
       "      <td>10073.093840</td>\n",
       "      <td>15847.636740</td>\n",
       "      <td>0.00</td>\n",
       "      <td>198.8525</td>\n",
       "      <td>4716.425</td>\n",
       "      <td>13311.8300</td>\n",
       "      <td>208638.64</td>\n",
       "    </tr>\n",
       "    <tr>\n",
       "      <th>costs</th>\n",
       "      <td>3130.0</td>\n",
       "      <td>6774.115166</td>\n",
       "      <td>13157.790368</td>\n",
       "      <td>-17766.14</td>\n",
       "      <td>0.0000</td>\n",
       "      <td>2959.215</td>\n",
       "      <td>9094.3300</td>\n",
       "      <td>441427.00</td>\n",
       "    </tr>\n",
       "  </tbody>\n",
       "</table>\n",
       "</div>"
      ],
      "text/plain": [
       "                 count          mean           std       min        25%  \\\n",
       "exog1           3130.0     58.358530    884.006782      0.00    10.4300   \n",
       "exog2           3130.0  12252.889457  16125.153108      0.00  2674.0000   \n",
       "SALES INVOICES  2381.0      1.289374      0.538291      1.00     1.0000   \n",
       "COST INVOICES   1708.0      1.726581      0.916334      1.00     1.0000   \n",
       "sales           3130.0  10073.093840  15847.636740      0.00   198.8525   \n",
       "costs           3130.0   6774.115166  13157.790368 -17766.14     0.0000   \n",
       "\n",
       "                     50%         75%        max  \n",
       "exog1             26.705     58.1525   49427.00  \n",
       "exog2           6643.000  15190.0000  177940.00  \n",
       "SALES INVOICES     1.000      2.0000       8.00  \n",
       "COST INVOICES      2.000      2.0000       9.00  \n",
       "sales           4716.425  13311.8300  208638.64  \n",
       "costs           2959.215   9094.3300  441427.00  "
      ]
     },
     "execution_count": 7,
     "metadata": {},
     "output_type": "execute_result"
    }
   ],
   "source": [
    "df.describe().T"
   ]
  },
  {
   "cell_type": "code",
   "execution_count": 8,
   "metadata": {},
   "outputs": [
    {
     "data": {
      "text/plain": [
       "<AxesSubplot:ylabel='id'>"
      ]
     },
     "execution_count": 8,
     "metadata": {},
     "output_type": "execute_result"
    },
    {
     "data": {
      "image/png": "[encoded data removed]",
      "text/plain": [
       "<Figure size 432x288 with 2 Axes>"
      ]
     },
     "metadata": {
      "needs_background": "light"
     },
     "output_type": "display_data"
    }
   ],
   "source": [
    "sns.heatmap(df.isnull(),cmap='magma',yticklabels=False)"
   ]
  },
  {
   "cell_type": "code",
   "execution_count": 9,
   "metadata": {},
   "outputs": [
    {
     "data": {
      "text/plain": [
       "{'Type': 0.0,\n",
       " 'exog1': 0.0,\n",
       " 'exog2': 0.0,\n",
       " 'BUSINESS PARTNER': 0.02,\n",
       " 'ORDER NO.': 0.0,\n",
       " 'SALES INVOICES': 0.24,\n",
       " 'COST INVOICES': 0.45,\n",
       " 'CLIENT': 0.0,\n",
       " 'EMPLOYEE': 0.01,\n",
       " 'Product': 0.0,\n",
       " 'CATEGORY': 0.0,\n",
       " 'sales': 0.0,\n",
       " 'costs': 0.0}"
      ]
     },
     "execution_count": 9,
     "metadata": {},
     "output_type": "execute_result"
    }
   ],
   "source": [
    "#calculating % of null values in every column\n",
    "columns = df.columns.values\n",
    "NullPerc = {}\n",
    "for i in range(0,len(columns)):\n",
    "    NullPerc[columns[i]]=round(sum(df[columns[i]].isnull())/len(df[columns[i]]),2)\n",
    "NullPerc    "
   ]
  },
  {
   "cell_type": "markdown",
   "metadata": {},
   "source": [
    "# handling with null values"
   ]
  },
  {
   "cell_type": "markdown",
   "metadata": {},
   "source": [
    "## 1) BUSINESS PARTNER "
   ]
  },
  {
   "cell_type": "code",
   "execution_count": 10,
   "metadata": {},
   "outputs": [
    {
     "data": {
      "text/html": [
       "<div>\n",
       "<style scoped>\n",
       "    .dataframe tbody tr th:only-of-type {\n",
       "        vertical-align: middle;\n",
       "    }\n",
       "\n",
       "    .dataframe tbody tr th {\n",
       "        vertical-align: top;\n",
       "    }\n",
       "\n",
       "    .dataframe thead th {\n",
       "        text-align: right;\n",
       "    }\n",
       "</style>\n",
       "<table border=\"1\" class=\"dataframe\">\n",
       "  <thead>\n",
       "    <tr style=\"text-align: right;\">\n",
       "      <th></th>\n",
       "      <th>Type</th>\n",
       "      <th>exog1</th>\n",
       "      <th>exog2</th>\n",
       "      <th>BUSINESS PARTNER</th>\n",
       "      <th>ORDER NO.</th>\n",
       "      <th>SALES INVOICES</th>\n",
       "      <th>COST INVOICES</th>\n",
       "      <th>CLIENT</th>\n",
       "      <th>EMPLOYEE</th>\n",
       "      <th>Product</th>\n",
       "      <th>CATEGORY</th>\n",
       "      <th>sales</th>\n",
       "      <th>costs</th>\n",
       "    </tr>\n",
       "    <tr>\n",
       "      <th>id</th>\n",
       "      <th></th>\n",
       "      <th></th>\n",
       "      <th></th>\n",
       "      <th></th>\n",
       "      <th></th>\n",
       "      <th></th>\n",
       "      <th></th>\n",
       "      <th></th>\n",
       "      <th></th>\n",
       "      <th></th>\n",
       "      <th></th>\n",
       "      <th></th>\n",
       "      <th></th>\n",
       "    </tr>\n",
       "  </thead>\n",
       "  <tbody>\n",
       "    <tr>\n",
       "      <th>8</th>\n",
       "      <td>B</td>\n",
       "      <td>23.66</td>\n",
       "      <td>2457.0</td>\n",
       "      <td>NaN</td>\n",
       "      <td>0008_XYZ</td>\n",
       "      <td>1.0</td>\n",
       "      <td>NaN</td>\n",
       "      <td>A&amp;C Sp. z o.o.</td>\n",
       "      <td>Alex Lewandowski</td>\n",
       "      <td>apple</td>\n",
       "      <td>sweet</td>\n",
       "      <td>1384.60</td>\n",
       "      <td>0.00</td>\n",
       "    </tr>\n",
       "    <tr>\n",
       "      <th>48</th>\n",
       "      <td>B</td>\n",
       "      <td>25.90</td>\n",
       "      <td>3101.0</td>\n",
       "      <td>NaN</td>\n",
       "      <td>00048_XYZ</td>\n",
       "      <td>2.0</td>\n",
       "      <td>1.0</td>\n",
       "      <td>A&amp;N Sp. z o.o.</td>\n",
       "      <td>Henryk Szczepański</td>\n",
       "      <td>apple</td>\n",
       "      <td>sweet</td>\n",
       "      <td>16773.54</td>\n",
       "      <td>12729.57</td>\n",
       "    </tr>\n",
       "    <tr>\n",
       "      <th>80</th>\n",
       "      <td>B</td>\n",
       "      <td>21.35</td>\n",
       "      <td>3199.0</td>\n",
       "      <td>NaN</td>\n",
       "      <td>00080_XYZ</td>\n",
       "      <td>1.0</td>\n",
       "      <td>NaN</td>\n",
       "      <td>A&amp;C Sp. z o.o.</td>\n",
       "      <td>Alex Lewandowski</td>\n",
       "      <td>apple</td>\n",
       "      <td>sweet</td>\n",
       "      <td>1407.00</td>\n",
       "      <td>0.00</td>\n",
       "    </tr>\n",
       "    <tr>\n",
       "      <th>91</th>\n",
       "      <td>B</td>\n",
       "      <td>6.23</td>\n",
       "      <td>819.0</td>\n",
       "      <td>NaN</td>\n",
       "      <td>00091_XYZ</td>\n",
       "      <td>3.0</td>\n",
       "      <td>1.0</td>\n",
       "      <td>A&amp;D Sp. z o.o.</td>\n",
       "      <td>Jakub Makowski</td>\n",
       "      <td>apple</td>\n",
       "      <td>sweet</td>\n",
       "      <td>9913.40</td>\n",
       "      <td>6964.44</td>\n",
       "    </tr>\n",
       "    <tr>\n",
       "      <th>187</th>\n",
       "      <td>B</td>\n",
       "      <td>2.94</td>\n",
       "      <td>1211.0</td>\n",
       "      <td>NaN</td>\n",
       "      <td>000187_XYZ</td>\n",
       "      <td>2.0</td>\n",
       "      <td>1.0</td>\n",
       "      <td>A&amp;D Sp. z o.o.</td>\n",
       "      <td>Jakub Makowski</td>\n",
       "      <td>apple</td>\n",
       "      <td>sweet</td>\n",
       "      <td>9033.85</td>\n",
       "      <td>6916.00</td>\n",
       "    </tr>\n",
       "    <tr>\n",
       "      <th>...</th>\n",
       "      <td>...</td>\n",
       "      <td>...</td>\n",
       "      <td>...</td>\n",
       "      <td>...</td>\n",
       "      <td>...</td>\n",
       "      <td>...</td>\n",
       "      <td>...</td>\n",
       "      <td>...</td>\n",
       "      <td>...</td>\n",
       "      <td>...</td>\n",
       "      <td>...</td>\n",
       "      <td>...</td>\n",
       "      <td>...</td>\n",
       "    </tr>\n",
       "    <tr>\n",
       "      <th>2923</th>\n",
       "      <td>B</td>\n",
       "      <td>46.90</td>\n",
       "      <td>9100.0</td>\n",
       "      <td>NaN</td>\n",
       "      <td>0002923_XYZ</td>\n",
       "      <td>1.0</td>\n",
       "      <td>1.0</td>\n",
       "      <td>F&amp;V Sp. z o.o.</td>\n",
       "      <td>Rafał Sikorska</td>\n",
       "      <td>apple</td>\n",
       "      <td>sweet</td>\n",
       "      <td>9591.89</td>\n",
       "      <td>2100.00</td>\n",
       "    </tr>\n",
       "    <tr>\n",
       "      <th>2967</th>\n",
       "      <td>B</td>\n",
       "      <td>12.39</td>\n",
       "      <td>1274.0</td>\n",
       "      <td>NaN</td>\n",
       "      <td>0002967_XYZ</td>\n",
       "      <td>NaN</td>\n",
       "      <td>NaN</td>\n",
       "      <td>A&amp;C Sp. z o.o.</td>\n",
       "      <td>Kamil Mazurek</td>\n",
       "      <td>apple</td>\n",
       "      <td>sweet</td>\n",
       "      <td>0.00</td>\n",
       "      <td>0.00</td>\n",
       "    </tr>\n",
       "    <tr>\n",
       "      <th>2971</th>\n",
       "      <td>B</td>\n",
       "      <td>7.00</td>\n",
       "      <td>1029.0</td>\n",
       "      <td>NaN</td>\n",
       "      <td>0002971_XYZ</td>\n",
       "      <td>NaN</td>\n",
       "      <td>NaN</td>\n",
       "      <td>A&amp;C Sp. z o.o.</td>\n",
       "      <td>Kamil Mazurek</td>\n",
       "      <td>apple</td>\n",
       "      <td>sweet</td>\n",
       "      <td>0.00</td>\n",
       "      <td>0.00</td>\n",
       "    </tr>\n",
       "    <tr>\n",
       "      <th>3010</th>\n",
       "      <td>B</td>\n",
       "      <td>127.89</td>\n",
       "      <td>47180.0</td>\n",
       "      <td>NaN</td>\n",
       "      <td>0003010_XYZ</td>\n",
       "      <td>NaN</td>\n",
       "      <td>NaN</td>\n",
       "      <td>A&amp;C Sp. z o.o.</td>\n",
       "      <td>Kamil Mazurek</td>\n",
       "      <td>apple</td>\n",
       "      <td>sweet</td>\n",
       "      <td>0.00</td>\n",
       "      <td>0.00</td>\n",
       "    </tr>\n",
       "    <tr>\n",
       "      <th>3022</th>\n",
       "      <td>B</td>\n",
       "      <td>0.00</td>\n",
       "      <td>0.0</td>\n",
       "      <td>NaN</td>\n",
       "      <td>0003022_XYZ</td>\n",
       "      <td>NaN</td>\n",
       "      <td>NaN</td>\n",
       "      <td>A&amp;I Sp. z o.o.</td>\n",
       "      <td>Andrzej Szczepański</td>\n",
       "      <td>peach</td>\n",
       "      <td>sour</td>\n",
       "      <td>0.00</td>\n",
       "      <td>0.00</td>\n",
       "    </tr>\n",
       "  </tbody>\n",
       "</table>\n",
       "<p>77 rows × 13 columns</p>\n",
       "</div>"
      ],
      "text/plain": [
       "     Type   exog1    exog2 BUSINESS PARTNER    ORDER NO.  SALES INVOICES  \\\n",
       "id                                                                         \n",
       "8       B   23.66   2457.0              NaN     0008_XYZ             1.0   \n",
       "48      B   25.90   3101.0              NaN    00048_XYZ             2.0   \n",
       "80      B   21.35   3199.0              NaN    00080_XYZ             1.0   \n",
       "91      B    6.23    819.0              NaN    00091_XYZ             3.0   \n",
       "187     B    2.94   1211.0              NaN   000187_XYZ             2.0   \n",
       "...   ...     ...      ...              ...          ...             ...   \n",
       "2923    B   46.90   9100.0              NaN  0002923_XYZ             1.0   \n",
       "2967    B   12.39   1274.0              NaN  0002967_XYZ             NaN   \n",
       "2971    B    7.00   1029.0              NaN  0002971_XYZ             NaN   \n",
       "3010    B  127.89  47180.0              NaN  0003010_XYZ             NaN   \n",
       "3022    B    0.00      0.0              NaN  0003022_XYZ             NaN   \n",
       "\n",
       "      COST INVOICES          CLIENT             EMPLOYEE Product CATEGORY  \\\n",
       "id                                                                          \n",
       "8               NaN  A&C Sp. z o.o.     Alex Lewandowski   apple    sweet   \n",
       "48              1.0  A&N Sp. z o.o.   Henryk Szczepański   apple    sweet   \n",
       "80              NaN  A&C Sp. z o.o.     Alex Lewandowski   apple    sweet   \n",
       "91              1.0  A&D Sp. z o.o.       Jakub Makowski   apple    sweet   \n",
       "187             1.0  A&D Sp. z o.o.       Jakub Makowski   apple    sweet   \n",
       "...             ...             ...                  ...     ...      ...   \n",
       "2923            1.0  F&V Sp. z o.o.       Rafał Sikorska   apple    sweet   \n",
       "2967            NaN  A&C Sp. z o.o.        Kamil Mazurek   apple    sweet   \n",
       "2971            NaN  A&C Sp. z o.o.        Kamil Mazurek   apple    sweet   \n",
       "3010            NaN  A&C Sp. z o.o.        Kamil Mazurek   apple    sweet   \n",
       "3022            NaN  A&I Sp. z o.o.  Andrzej Szczepański   peach     sour   \n",
       "\n",
       "         sales     costs  \n",
       "id                        \n",
       "8      1384.60      0.00  \n",
       "48    16773.54  12729.57  \n",
       "80     1407.00      0.00  \n",
       "91     9913.40   6964.44  \n",
       "187    9033.85   6916.00  \n",
       "...        ...       ...  \n",
       "2923   9591.89   2100.00  \n",
       "2967      0.00      0.00  \n",
       "2971      0.00      0.00  \n",
       "3010      0.00      0.00  \n",
       "3022      0.00      0.00  \n",
       "\n",
       "[77 rows x 13 columns]"
      ]
     },
     "execution_count": 10,
     "metadata": {},
     "output_type": "execute_result"
    }
   ],
   "source": [
    "df[df['BUSINESS PARTNER'].isnull()]"
   ]
  },
  {
   "cell_type": "markdown",
   "metadata": {},
   "source": [
    "### I assumed that it's high probability that in company is used the same business partner for the most common combination of \"CLIENT\"and \"PRODUCT\" values "
   ]
  },
  {
   "cell_type": "code",
   "execution_count": 11,
   "metadata": {},
   "outputs": [
    {
     "data": {
      "text/html": [
       "<div>\n",
       "<style scoped>\n",
       "    .dataframe tbody tr th:only-of-type {\n",
       "        vertical-align: middle;\n",
       "    }\n",
       "\n",
       "    .dataframe tbody tr th {\n",
       "        vertical-align: top;\n",
       "    }\n",
       "\n",
       "    .dataframe thead th {\n",
       "        text-align: right;\n",
       "    }\n",
       "</style>\n",
       "<table border=\"1\" class=\"dataframe\">\n",
       "  <thead>\n",
       "    <tr style=\"text-align: right;\">\n",
       "      <th></th>\n",
       "      <th>BUSINESS PARTNER</th>\n",
       "      <th>CLIENT</th>\n",
       "      <th>Product</th>\n",
       "      <th>Type</th>\n",
       "    </tr>\n",
       "  </thead>\n",
       "  <tbody>\n",
       "    <tr>\n",
       "      <th>17</th>\n",
       "      <td>AB LTD.</td>\n",
       "      <td>A&amp;C Sp. z o.o.</td>\n",
       "      <td>apple</td>\n",
       "      <td>469</td>\n",
       "    </tr>\n",
       "    <tr>\n",
       "      <th>18</th>\n",
       "      <td>AB LTD.</td>\n",
       "      <td>A&amp;D Sp. z o.o.</td>\n",
       "      <td>apple</td>\n",
       "      <td>173</td>\n",
       "    </tr>\n",
       "    <tr>\n",
       "      <th>74</th>\n",
       "      <td>AD LTD.</td>\n",
       "      <td>A&amp;D Sp. z o.o.</td>\n",
       "      <td>apple</td>\n",
       "      <td>150</td>\n",
       "    </tr>\n",
       "    <tr>\n",
       "      <th>112</th>\n",
       "      <td>AF LTD.</td>\n",
       "      <td>A&amp;D Sp. z o.o.</td>\n",
       "      <td>apple</td>\n",
       "      <td>108</td>\n",
       "    </tr>\n",
       "    <tr>\n",
       "      <th>154</th>\n",
       "      <td>AG LTD.</td>\n",
       "      <td>A&amp;D Sp. z o.o.</td>\n",
       "      <td>apple</td>\n",
       "      <td>102</td>\n",
       "    </tr>\n",
       "    <tr>\n",
       "      <th>...</th>\n",
       "      <td>...</td>\n",
       "      <td>...</td>\n",
       "      <td>...</td>\n",
       "      <td>...</td>\n",
       "    </tr>\n",
       "    <tr>\n",
       "      <th>321</th>\n",
       "      <td>AN LTD.</td>\n",
       "      <td>G&amp;J Sp. z o.o.</td>\n",
       "      <td>apple</td>\n",
       "      <td>1</td>\n",
       "    </tr>\n",
       "    <tr>\n",
       "      <th>322</th>\n",
       "      <td>AN LTD.</td>\n",
       "      <td>G&amp;K Sp. z o.o.</td>\n",
       "      <td>apple</td>\n",
       "      <td>1</td>\n",
       "    </tr>\n",
       "    <tr>\n",
       "      <th>323</th>\n",
       "      <td>AN LTD.</td>\n",
       "      <td>I&amp;W Sp. z o.o.</td>\n",
       "      <td>apple</td>\n",
       "      <td>1</td>\n",
       "    </tr>\n",
       "    <tr>\n",
       "      <th>329</th>\n",
       "      <td>AO LTD.</td>\n",
       "      <td>C&amp;P Sp. z o.o.</td>\n",
       "      <td>apple</td>\n",
       "      <td>1</td>\n",
       "    </tr>\n",
       "    <tr>\n",
       "      <th>768</th>\n",
       "      <td>GT LTD.</td>\n",
       "      <td>A&amp;D Sp. z o.o.</td>\n",
       "      <td>apple</td>\n",
       "      <td>1</td>\n",
       "    </tr>\n",
       "  </tbody>\n",
       "</table>\n",
       "<p>769 rows × 4 columns</p>\n",
       "</div>"
      ],
      "text/plain": [
       "    BUSINESS PARTNER          CLIENT Product  Type\n",
       "17          AB LTD.   A&C Sp. z o.o.   apple   469\n",
       "18          AB LTD.   A&D Sp. z o.o.   apple   173\n",
       "74          AD LTD.   A&D Sp. z o.o.   apple   150\n",
       "112         AF LTD.   A&D Sp. z o.o.   apple   108\n",
       "154         AG LTD.   A&D Sp. z o.o.   apple   102\n",
       "..               ...             ...     ...   ...\n",
       "321         AN LTD.   G&J Sp. z o.o.   apple     1\n",
       "322         AN LTD.   G&K Sp. z o.o.   apple     1\n",
       "323         AN LTD.   I&W Sp. z o.o.   apple     1\n",
       "329         AO LTD.   C&P Sp. z o.o.   apple     1\n",
       "768         GT LTD.   A&D Sp. z o.o.   apple     1\n",
       "\n",
       "[769 rows x 4 columns]"
      ]
     },
     "execution_count": 11,
     "metadata": {},
     "output_type": "execute_result"
    }
   ],
   "source": [
    "fill_BP = df.groupby(['BUSINESS PARTNER','CLIENT','Product']).count().reset_index().iloc[:,0:4]\\\n",
    ".sort_values(by='Type',ascending=False)\n",
    "fill_BP"
   ]
  },
  {
   "cell_type": "code",
   "execution_count": 12,
   "metadata": {},
   "outputs": [
    {
     "name": "stderr",
     "output_type": "stream",
     "text": [
      "<ipython-input-12-a61097efb7a9>:3: SettingWithCopyWarning: \n",
      "A value is trying to be set on a copy of a slice from a DataFrame\n",
      "\n",
      "See the caveats in the documentation: https://pandas.pydata.org/pandas-docs/stable/user_guide/indexing.html#returning-a-view-versus-a-copy\n",
      "  df['BUSINESS PARTNER'][i]=fill_BP[(fill_BP['CLIENT']==df['CLIENT'][i])&\n"
     ]
    }
   ],
   "source": [
    "for i in range(1,len(df)):\n",
    "    if pd.isnull(df['BUSINESS PARTNER'][i]):\n",
    "        df['BUSINESS PARTNER'][i]=fill_BP[(fill_BP['CLIENT']==df['CLIENT'][i])&\n",
    "                                          (fill_BP['Product']==df['Product'][i])].iloc[0]['BUSINESS PARTNER']"
   ]
  },
  {
   "cell_type": "markdown",
   "metadata": {},
   "source": [
    "## 2) SALES & COST INVOICES since we are trying to forecast sales and cost I've decided not to teach my model on \"guessed\" data"
   ]
  },
  {
   "cell_type": "code",
   "execution_count": 13,
   "metadata": {},
   "outputs": [
    {
     "data": {
      "text/plain": [
       "0.0"
      ]
     },
     "execution_count": 13,
     "metadata": {},
     "output_type": "execute_result"
    }
   ],
   "source": [
    "df[df['SALES INVOICES'].isnull()]['sales'].sum()"
   ]
  },
  {
   "cell_type": "code",
   "execution_count": 14,
   "metadata": {},
   "outputs": [
    {
     "name": "stdout",
     "output_type": "stream",
     "text": [
      "0.24 % of data will be dropped due to lack of issued sales\n"
     ]
    }
   ],
   "source": [
    "print(round(df[df['SALES INVOICES'].isnull()]['sales'].count()/len(df),2),'% of data will be dropped due to lack of issued sales')"
   ]
  },
  {
   "cell_type": "code",
   "execution_count": 15,
   "metadata": {},
   "outputs": [
    {
     "data": {
      "text/plain": [
       "2377780.0199999996"
      ]
     },
     "execution_count": 15,
     "metadata": {},
     "output_type": "execute_result"
    }
   ],
   "source": [
    "df[df['COST INVOICES'].isnull()]['costs'].sum() # it shows that this column has missmatched data (there are costs but null cost invoice)"
   ]
  },
  {
   "cell_type": "code",
   "execution_count": 16,
   "metadata": {},
   "outputs": [],
   "source": [
    "df = df[(df['SALES INVOICES'].isnull()==False)]\n",
    "df = df[df['costs']!=0]"
   ]
  },
  {
   "cell_type": "code",
   "execution_count": 17,
   "metadata": {},
   "outputs": [],
   "source": [
    "df['COST INVOICES'].fillna(1,inplace=True)"
   ]
  },
  {
   "cell_type": "markdown",
   "metadata": {},
   "source": [
    "# descriptive analysis"
   ]
  },
  {
   "cell_type": "code",
   "execution_count": 18,
   "metadata": {},
   "outputs": [
    {
     "name": "stdout",
     "output_type": "stream",
     "text": [
      "<class 'pandas.core.frame.DataFrame'>\n",
      "Int64Index: 1916 entries, 1 to 3123\n",
      "Data columns (total 13 columns):\n",
      " #   Column            Non-Null Count  Dtype  \n",
      "---  ------            --------------  -----  \n",
      " 0   Type              1916 non-null   object \n",
      " 1   exog1             1916 non-null   float64\n",
      " 2   exog2             1916 non-null   float64\n",
      " 3   BUSINESS PARTNER  1916 non-null   object \n",
      " 4   ORDER NO.         1916 non-null   object \n",
      " 5   SALES INVOICES    1916 non-null   float64\n",
      " 6   COST INVOICES     1916 non-null   float64\n",
      " 7   CLIENT            1916 non-null   object \n",
      " 8   EMPLOYEE          1916 non-null   object \n",
      " 9   Product           1916 non-null   object \n",
      " 10  CATEGORY          1916 non-null   object \n",
      " 11  sales             1916 non-null   float64\n",
      " 12  costs             1916 non-null   float64\n",
      "dtypes: float64(6), object(7)\n",
      "memory usage: 209.6+ KB\n"
     ]
    }
   ],
   "source": [
    "df.info()"
   ]
  },
  {
   "cell_type": "code",
   "execution_count": 19,
   "metadata": {},
   "outputs": [
    {
     "data": {
      "text/plain": [
       "<AxesSubplot:>"
      ]
     },
     "execution_count": 19,
     "metadata": {},
     "output_type": "execute_result"
    },
    {
     "data": {
      "image/png": "[encoded data removed]",
      "text/plain": [
       "<Figure size 432x288 with 2 Axes>"
      ]
     },
     "metadata": {
      "needs_background": "light"
     },
     "output_type": "display_data"
    }
   ],
   "source": [
    "num_cols=['exog1', 'exog2','SALES INVOICES', 'COST INVOICES', 'sales', 'costs']\n",
    "sns.heatmap(df[num_cols].corr()[['sales','costs']])"
   ]
  },
  {
   "cell_type": "code",
   "execution_count": 20,
   "metadata": {},
   "outputs": [
    {
     "data": {
      "text/html": [
       "<div>\n",
       "<style scoped>\n",
       "    .dataframe tbody tr th:only-of-type {\n",
       "        vertical-align: middle;\n",
       "    }\n",
       "\n",
       "    .dataframe tbody tr th {\n",
       "        vertical-align: top;\n",
       "    }\n",
       "\n",
       "    .dataframe thead th {\n",
       "        text-align: right;\n",
       "    }\n",
       "</style>\n",
       "<table border=\"1\" class=\"dataframe\">\n",
       "  <thead>\n",
       "    <tr style=\"text-align: right;\">\n",
       "      <th></th>\n",
       "      <th>sales</th>\n",
       "      <th>costs</th>\n",
       "    </tr>\n",
       "  </thead>\n",
       "  <tbody>\n",
       "    <tr>\n",
       "      <th>exog1</th>\n",
       "      <td>0.559285</td>\n",
       "      <td>0.398114</td>\n",
       "    </tr>\n",
       "    <tr>\n",
       "      <th>exog2</th>\n",
       "      <td>0.407731</td>\n",
       "      <td>0.294053</td>\n",
       "    </tr>\n",
       "    <tr>\n",
       "      <th>SALES INVOICES</th>\n",
       "      <td>0.139689</td>\n",
       "      <td>0.105657</td>\n",
       "    </tr>\n",
       "    <tr>\n",
       "      <th>COST INVOICES</th>\n",
       "      <td>0.128486</td>\n",
       "      <td>0.254655</td>\n",
       "    </tr>\n",
       "    <tr>\n",
       "      <th>sales</th>\n",
       "      <td>1.000000</td>\n",
       "      <td>0.670066</td>\n",
       "    </tr>\n",
       "    <tr>\n",
       "      <th>costs</th>\n",
       "      <td>0.670066</td>\n",
       "      <td>1.000000</td>\n",
       "    </tr>\n",
       "  </tbody>\n",
       "</table>\n",
       "</div>"
      ],
      "text/plain": [
       "                   sales     costs\n",
       "exog1           0.559285  0.398114\n",
       "exog2           0.407731  0.294053\n",
       "SALES INVOICES  0.139689  0.105657\n",
       "COST INVOICES   0.128486  0.254655\n",
       "sales           1.000000  0.670066\n",
       "costs           0.670066  1.000000"
      ]
     },
     "execution_count": 20,
     "metadata": {},
     "output_type": "execute_result"
    }
   ],
   "source": [
    "df.corr()[['sales','costs']]"
   ]
  },
  {
   "cell_type": "code",
   "execution_count": 21,
   "metadata": {},
   "outputs": [],
   "source": [
    "df.drop(columns=['SALES INVOICES','COST INVOICES'],inplace=True,axis=1)"
   ]
  },
  {
   "cell_type": "code",
   "execution_count": 22,
   "metadata": {},
   "outputs": [
    {
     "data": {
      "text/plain": [
       "<seaborn.axisgrid.JointGrid at 0x1daf885fa90>"
      ]
     },
     "execution_count": 22,
     "metadata": {},
     "output_type": "execute_result"
    },
    {
     "data": {
      "image/png": "[encoded data removed]",
      "text/plain": [
       "<Figure size 432x432 with 3 Axes>"
      ]
     },
     "metadata": {
      "needs_background": "light"
     },
     "output_type": "display_data"
    }
   ],
   "source": [
    "sns.jointplot(data=df,x='sales',y='costs')"
   ]
  },
  {
   "cell_type": "code",
   "execution_count": 23,
   "metadata": {},
   "outputs": [],
   "source": [
    "df['gross margin'] = df['sales']-df['costs']"
   ]
  },
  {
   "cell_type": "code",
   "execution_count": 24,
   "metadata": {},
   "outputs": [],
   "source": [
    "df['perc. margin'] = round(df['gross margin']/df['sales'],2)"
   ]
  },
  {
   "cell_type": "code",
   "execution_count": 25,
   "metadata": {},
   "outputs": [
    {
     "data": {
      "text/html": [
       "<div>\n",
       "<style scoped>\n",
       "    .dataframe tbody tr th:only-of-type {\n",
       "        vertical-align: middle;\n",
       "    }\n",
       "\n",
       "    .dataframe tbody tr th {\n",
       "        vertical-align: top;\n",
       "    }\n",
       "\n",
       "    .dataframe thead th {\n",
       "        text-align: right;\n",
       "    }\n",
       "</style>\n",
       "<table border=\"1\" class=\"dataframe\">\n",
       "  <thead>\n",
       "    <tr style=\"text-align: right;\">\n",
       "      <th></th>\n",
       "      <th>Type</th>\n",
       "      <th>exog1</th>\n",
       "      <th>exog2</th>\n",
       "      <th>BUSINESS PARTNER</th>\n",
       "      <th>ORDER NO.</th>\n",
       "      <th>CLIENT</th>\n",
       "      <th>EMPLOYEE</th>\n",
       "      <th>Product</th>\n",
       "      <th>CATEGORY</th>\n",
       "      <th>sales</th>\n",
       "      <th>costs</th>\n",
       "      <th>gross margin</th>\n",
       "      <th>perc. margin</th>\n",
       "    </tr>\n",
       "    <tr>\n",
       "      <th>id</th>\n",
       "      <th></th>\n",
       "      <th></th>\n",
       "      <th></th>\n",
       "      <th></th>\n",
       "      <th></th>\n",
       "      <th></th>\n",
       "      <th></th>\n",
       "      <th></th>\n",
       "      <th></th>\n",
       "      <th></th>\n",
       "      <th></th>\n",
       "      <th></th>\n",
       "      <th></th>\n",
       "    </tr>\n",
       "  </thead>\n",
       "  <tbody>\n",
       "    <tr>\n",
       "      <th>1</th>\n",
       "      <td>A</td>\n",
       "      <td>9.80</td>\n",
       "      <td>1750.0</td>\n",
       "      <td>AA LTD.</td>\n",
       "      <td>0001_XYZ</td>\n",
       "      <td>A&amp;A Sp. z o.o.</td>\n",
       "      <td>Cezary Jaworski</td>\n",
       "      <td>apple</td>\n",
       "      <td>sweet</td>\n",
       "      <td>6211.66</td>\n",
       "      <td>3498.95</td>\n",
       "      <td>2712.71</td>\n",
       "      <td>0.44</td>\n",
       "    </tr>\n",
       "    <tr>\n",
       "      <th>2</th>\n",
       "      <td>B</td>\n",
       "      <td>4.90</td>\n",
       "      <td>2856.0</td>\n",
       "      <td>AB LTD.</td>\n",
       "      <td>0002_XYZ</td>\n",
       "      <td>A&amp;B Sp. z o.o.</td>\n",
       "      <td>Kamil Mazurek</td>\n",
       "      <td>apple</td>\n",
       "      <td>sweet</td>\n",
       "      <td>1532.02</td>\n",
       "      <td>-2979.62</td>\n",
       "      <td>4511.64</td>\n",
       "      <td>2.94</td>\n",
       "    </tr>\n",
       "    <tr>\n",
       "      <th>11</th>\n",
       "      <td>B</td>\n",
       "      <td>17.50</td>\n",
       "      <td>1127.0</td>\n",
       "      <td>AB LTD.</td>\n",
       "      <td>00011_XYZ</td>\n",
       "      <td>A&amp;D Sp. z o.o.</td>\n",
       "      <td>Jakub Makowski</td>\n",
       "      <td>apple</td>\n",
       "      <td>sweet</td>\n",
       "      <td>6737.29</td>\n",
       "      <td>4377.87</td>\n",
       "      <td>2359.42</td>\n",
       "      <td>0.35</td>\n",
       "    </tr>\n",
       "    <tr>\n",
       "      <th>16</th>\n",
       "      <td>A</td>\n",
       "      <td>9.24</td>\n",
       "      <td>6398.0</td>\n",
       "      <td>AC LTD.</td>\n",
       "      <td>00016_XYZ</td>\n",
       "      <td>A&amp;F Sp. z o.o.</td>\n",
       "      <td>Leonardo Lewandowski</td>\n",
       "      <td>apple</td>\n",
       "      <td>sweet</td>\n",
       "      <td>12522.37</td>\n",
       "      <td>8499.96</td>\n",
       "      <td>4022.41</td>\n",
       "      <td>0.32</td>\n",
       "    </tr>\n",
       "    <tr>\n",
       "      <th>18</th>\n",
       "      <td>A</td>\n",
       "      <td>21.00</td>\n",
       "      <td>13216.0</td>\n",
       "      <td>AD LTD.</td>\n",
       "      <td>00018_XYZ</td>\n",
       "      <td>A&amp;D Sp. z o.o.</td>\n",
       "      <td>Jakub Makowski</td>\n",
       "      <td>apple</td>\n",
       "      <td>sweet</td>\n",
       "      <td>3737.58</td>\n",
       "      <td>3542.98</td>\n",
       "      <td>194.60</td>\n",
       "      <td>0.05</td>\n",
       "    </tr>\n",
       "  </tbody>\n",
       "</table>\n",
       "</div>"
      ],
      "text/plain": [
       "   Type  exog1    exog2 BUSINESS PARTNER  ORDER NO.          CLIENT  \\\n",
       "id                                                                    \n",
       "1     A   9.80   1750.0         AA LTD.    0001_XYZ  A&A Sp. z o.o.   \n",
       "2     B   4.90   2856.0         AB LTD.    0002_XYZ  A&B Sp. z o.o.   \n",
       "11    B  17.50   1127.0         AB LTD.   00011_XYZ  A&D Sp. z o.o.   \n",
       "16    A   9.24   6398.0         AC LTD.   00016_XYZ  A&F Sp. z o.o.   \n",
       "18    A  21.00  13216.0         AD LTD.   00018_XYZ  A&D Sp. z o.o.   \n",
       "\n",
       "                EMPLOYEE Product CATEGORY     sales    costs  gross margin  \\\n",
       "id                                                                           \n",
       "1        Cezary Jaworski   apple    sweet   6211.66  3498.95       2712.71   \n",
       "2          Kamil Mazurek   apple    sweet   1532.02 -2979.62       4511.64   \n",
       "11        Jakub Makowski   apple    sweet   6737.29  4377.87       2359.42   \n",
       "16  Leonardo Lewandowski   apple    sweet  12522.37  8499.96       4022.41   \n",
       "18        Jakub Makowski   apple    sweet   3737.58  3542.98        194.60   \n",
       "\n",
       "    perc. margin  \n",
       "id                \n",
       "1           0.44  \n",
       "2           2.94  \n",
       "11          0.35  \n",
       "16          0.32  \n",
       "18          0.05  "
      ]
     },
     "execution_count": 25,
     "metadata": {},
     "output_type": "execute_result"
    }
   ],
   "source": [
    "df.head(5)"
   ]
  },
  {
   "cell_type": "markdown",
   "metadata": {},
   "source": [
    "# after meeting with operational managers it's said that the perc. margin should not exceed 40% and the loss on a single order has never been higher than 5000"
   ]
  },
  {
   "cell_type": "code",
   "execution_count": 26,
   "metadata": {},
   "outputs": [],
   "source": [
    "df=df[(df['perc. margin']<=0.40) & (df['gross margin']>=-5000) ]"
   ]
  },
  {
   "cell_type": "code",
   "execution_count": 27,
   "metadata": {},
   "outputs": [
    {
     "data": {
      "text/plain": [
       "<seaborn.axisgrid.JointGrid at 0x1daf87082e0>"
      ]
     },
     "execution_count": 27,
     "metadata": {},
     "output_type": "execute_result"
    },
    {
     "data": {
      "image/png": "[encoded data removed]",
      "text/plain": [
       "<Figure size 432x432 with 3 Axes>"
      ]
     },
     "metadata": {
      "needs_background": "light"
     },
     "output_type": "display_data"
    }
   ],
   "source": [
    "sns.jointplot(data=df,x='sales',y='costs')"
   ]
  },
  {
   "cell_type": "code",
   "execution_count": 28,
   "metadata": {},
   "outputs": [
    {
     "data": {
      "text/plain": [
       "<seaborn.axisgrid.JointGrid at 0x1daf8997610>"
      ]
     },
     "execution_count": 28,
     "metadata": {},
     "output_type": "execute_result"
    },
    {
     "data": {
      "image/png": "[encoded data removed]",
      "text/plain": [
       "<Figure size 432x432 with 3 Axes>"
      ]
     },
     "metadata": {
      "needs_background": "light"
     },
     "output_type": "display_data"
    }
   ],
   "source": [
    "sns.jointplot(data=df,x='sales',y='exog1')"
   ]
  },
  {
   "cell_type": "markdown",
   "metadata": {},
   "source": [
    "Since exog1,exog2 is the most correlated with sales I've decided that the \"0\" values will be prognosed by a median in sales groups"
   ]
  },
  {
   "cell_type": "code",
   "execution_count": 29,
   "metadata": {},
   "outputs": [
    {
     "data": {
      "text/plain": [
       "[0,\n",
       " 10000,\n",
       " 20000,\n",
       " 30000,\n",
       " 40000,\n",
       " 50000,\n",
       " 60000,\n",
       " 70000,\n",
       " 80000,\n",
       " 90000,\n",
       " 100000,\n",
       " 110000]"
      ]
     },
     "execution_count": 29,
     "metadata": {},
     "output_type": "execute_result"
    }
   ],
   "source": [
    "sales_groups = list(range(0,int(max(df['sales'])),10000))\n",
    "sales_groups"
   ]
  },
  {
   "cell_type": "code",
   "execution_count": 30,
   "metadata": {},
   "outputs": [
    {
     "name": "stderr",
     "output_type": "stream",
     "text": [
      "C:\\Users\\Cezary.Sosnowski.CZAREK\\anaconda3\\lib\\site-packages\\pandas\\core\\indexing.py:670: SettingWithCopyWarning: \n",
      "A value is trying to be set on a copy of a slice from a DataFrame\n",
      "\n",
      "See the caveats in the documentation: https://pandas.pydata.org/pandas-docs/stable/user_guide/indexing.html#returning-a-view-versus-a-copy\n",
      "  iloc._setitem_with_indexer(indexer, value)\n"
     ]
    }
   ],
   "source": [
    "#SALES GROUPS\n",
    "df['sales_groups'] = sales_groups[0]\n",
    "for i in range(1,len(df)):\n",
    "    for a in range(0,len(sales_groups)):\n",
    "        if df['sales'].iloc[i] < sales_groups[a]:\n",
    "            df['sales_groups'].iloc[i] = sales_groups[a]\n",
    "            break"
   ]
  },
  {
   "cell_type": "code",
   "execution_count": 31,
   "metadata": {},
   "outputs": [
    {
     "data": {
      "text/plain": [
       "Int64Index([  11,   16,   18,   19,   20,   21,   22,   23,   24,   25,\n",
       "            ...\n",
       "            2720, 2808, 2821, 2834, 2835, 2855, 2951, 2954, 2956, 3123],\n",
       "           dtype='int64', name='id', length=1296)"
      ]
     },
     "execution_count": 31,
     "metadata": {},
     "output_type": "execute_result"
    }
   ],
   "source": [
    "df.index"
   ]
  },
  {
   "cell_type": "code",
   "execution_count": 32,
   "metadata": {},
   "outputs": [],
   "source": [
    "\n",
    "exog_1_2 = df.groupby(by='sales_groups').median()[['exog1','exog2']]\n",
    "for x in range(0,3):\n",
    "    for i in range(0,len(df)):\n",
    "        for a in range(0,len(exog_1_2)):\n",
    "            if df['exog1'].iloc[i] ==0:\n",
    "                if df['sales'].iloc[i]>exog_1_2.index[-1]:\n",
    "                    df['exog1'].iloc[i]=exog_1_2['exog1'].iloc[-1]\n",
    "                    break \n",
    "                elif df['sales'].iloc[i]<exog_1_2.index[a+1]:\n",
    "                    df['exog1'].iloc[i]=exog_1_2['exog1'].iloc[a]\n",
    "                    break\n",
    "            if df['exog2'].iloc[i] ==0:\n",
    "                if df['sales'].iloc[i]>exog_1_2.index[-1]:\n",
    "                    df['exog2'].iloc[i]=exog_1_2['exog2'].iloc[-1]\n",
    "                    break\n",
    "                elif df['sales'].iloc[i]<exog_1_2.index[a+1]:\n",
    "                    df['exog2'].iloc[i]=exog_1_2['exog2'].iloc[a]\n",
    "                    break     "
   ]
  },
  {
   "cell_type": "code",
   "execution_count": 33,
   "metadata": {},
   "outputs": [
    {
     "data": {
      "text/plain": [
       "<seaborn.axisgrid.JointGrid at 0x1daf912b670>"
      ]
     },
     "execution_count": 33,
     "metadata": {},
     "output_type": "execute_result"
    },
    {
     "data": {
      "image/png": "[encoded data removed]",
      "text/plain": [
       "<Figure size 432x432 with 3 Axes>"
      ]
     },
     "metadata": {
      "needs_background": "light"
     },
     "output_type": "display_data"
    }
   ],
   "source": [
    "sns.jointplot(data=df,x='sales',y='exog1')"
   ]
  },
  {
   "cell_type": "code",
   "execution_count": 34,
   "metadata": {},
   "outputs": [
    {
     "data": {
      "text/plain": [
       "<seaborn.axisgrid.JointGrid at 0x1daf9350370>"
      ]
     },
     "execution_count": 34,
     "metadata": {},
     "output_type": "execute_result"
    },
    {
     "data": {
      "image/png": "[encoded data removed]",
      "text/plain": [
       "<Figure size 432x432 with 3 Axes>"
      ]
     },
     "metadata": {
      "needs_background": "light"
     },
     "output_type": "display_data"
    }
   ],
   "source": [
    "sns.jointplot(data=df,x='sales',y='exog2')"
   ]
  },
  {
   "cell_type": "markdown",
   "metadata": {},
   "source": [
    "# "
   ]
  },
  {
   "cell_type": "code",
   "execution_count": 35,
   "metadata": {},
   "outputs": [
    {
     "data": {
      "text/html": [
       "<div>\n",
       "<style scoped>\n",
       "    .dataframe tbody tr th:only-of-type {\n",
       "        vertical-align: middle;\n",
       "    }\n",
       "\n",
       "    .dataframe tbody tr th {\n",
       "        vertical-align: top;\n",
       "    }\n",
       "\n",
       "    .dataframe thead th {\n",
       "        text-align: right;\n",
       "    }\n",
       "</style>\n",
       "<table border=\"1\" class=\"dataframe\">\n",
       "  <thead>\n",
       "    <tr style=\"text-align: right;\">\n",
       "      <th></th>\n",
       "      <th>Type</th>\n",
       "      <th>exog1</th>\n",
       "      <th>exog2</th>\n",
       "      <th>BUSINESS PARTNER</th>\n",
       "      <th>ORDER NO.</th>\n",
       "      <th>CLIENT</th>\n",
       "      <th>EMPLOYEE</th>\n",
       "      <th>Product</th>\n",
       "      <th>CATEGORY</th>\n",
       "      <th>sales</th>\n",
       "      <th>costs</th>\n",
       "      <th>gross margin</th>\n",
       "      <th>perc. margin</th>\n",
       "      <th>sales_groups</th>\n",
       "    </tr>\n",
       "    <tr>\n",
       "      <th>id</th>\n",
       "      <th></th>\n",
       "      <th></th>\n",
       "      <th></th>\n",
       "      <th></th>\n",
       "      <th></th>\n",
       "      <th></th>\n",
       "      <th></th>\n",
       "      <th></th>\n",
       "      <th></th>\n",
       "      <th></th>\n",
       "      <th></th>\n",
       "      <th></th>\n",
       "      <th></th>\n",
       "      <th></th>\n",
       "    </tr>\n",
       "  </thead>\n",
       "  <tbody>\n",
       "    <tr>\n",
       "      <th>11</th>\n",
       "      <td>B</td>\n",
       "      <td>17.50</td>\n",
       "      <td>1127.0</td>\n",
       "      <td>AB LTD.</td>\n",
       "      <td>00011_XYZ</td>\n",
       "      <td>A&amp;D Sp. z o.o.</td>\n",
       "      <td>Jakub Makowski</td>\n",
       "      <td>apple</td>\n",
       "      <td>sweet</td>\n",
       "      <td>6737.29</td>\n",
       "      <td>4377.87</td>\n",
       "      <td>2359.42</td>\n",
       "      <td>0.35</td>\n",
       "      <td>0</td>\n",
       "    </tr>\n",
       "    <tr>\n",
       "      <th>16</th>\n",
       "      <td>A</td>\n",
       "      <td>9.24</td>\n",
       "      <td>6398.0</td>\n",
       "      <td>AC LTD.</td>\n",
       "      <td>00016_XYZ</td>\n",
       "      <td>A&amp;F Sp. z o.o.</td>\n",
       "      <td>Leonardo Lewandowski</td>\n",
       "      <td>apple</td>\n",
       "      <td>sweet</td>\n",
       "      <td>12522.37</td>\n",
       "      <td>8499.96</td>\n",
       "      <td>4022.41</td>\n",
       "      <td>0.32</td>\n",
       "      <td>20000</td>\n",
       "    </tr>\n",
       "    <tr>\n",
       "      <th>18</th>\n",
       "      <td>A</td>\n",
       "      <td>21.00</td>\n",
       "      <td>13216.0</td>\n",
       "      <td>AD LTD.</td>\n",
       "      <td>00018_XYZ</td>\n",
       "      <td>A&amp;D Sp. z o.o.</td>\n",
       "      <td>Jakub Makowski</td>\n",
       "      <td>apple</td>\n",
       "      <td>sweet</td>\n",
       "      <td>3737.58</td>\n",
       "      <td>3542.98</td>\n",
       "      <td>194.60</td>\n",
       "      <td>0.05</td>\n",
       "      <td>10000</td>\n",
       "    </tr>\n",
       "    <tr>\n",
       "      <th>19</th>\n",
       "      <td>A</td>\n",
       "      <td>52.71</td>\n",
       "      <td>24283.0</td>\n",
       "      <td>AD LTD.</td>\n",
       "      <td>00019_XYZ</td>\n",
       "      <td>A&amp;D Sp. z o.o.</td>\n",
       "      <td>Jakub Makowski</td>\n",
       "      <td>apple</td>\n",
       "      <td>sweet</td>\n",
       "      <td>8852.90</td>\n",
       "      <td>5853.05</td>\n",
       "      <td>2999.85</td>\n",
       "      <td>0.34</td>\n",
       "      <td>10000</td>\n",
       "    </tr>\n",
       "    <tr>\n",
       "      <th>20</th>\n",
       "      <td>A</td>\n",
       "      <td>53.83</td>\n",
       "      <td>4011.0</td>\n",
       "      <td>AD LTD.</td>\n",
       "      <td>00020_XYZ</td>\n",
       "      <td>A&amp;G Sp. z o.o.</td>\n",
       "      <td>Cezary Jaworski</td>\n",
       "      <td>apple</td>\n",
       "      <td>sweet</td>\n",
       "      <td>20446.02</td>\n",
       "      <td>18816.35</td>\n",
       "      <td>1629.67</td>\n",
       "      <td>0.08</td>\n",
       "      <td>30000</td>\n",
       "    </tr>\n",
       "  </tbody>\n",
       "</table>\n",
       "</div>"
      ],
      "text/plain": [
       "   Type  exog1    exog2 BUSINESS PARTNER  ORDER NO.          CLIENT  \\\n",
       "id                                                                    \n",
       "11    B  17.50   1127.0         AB LTD.   00011_XYZ  A&D Sp. z o.o.   \n",
       "16    A   9.24   6398.0         AC LTD.   00016_XYZ  A&F Sp. z o.o.   \n",
       "18    A  21.00  13216.0         AD LTD.   00018_XYZ  A&D Sp. z o.o.   \n",
       "19    A  52.71  24283.0         AD LTD.   00019_XYZ  A&D Sp. z o.o.   \n",
       "20    A  53.83   4011.0         AD LTD.   00020_XYZ  A&G Sp. z o.o.   \n",
       "\n",
       "                EMPLOYEE Product CATEGORY     sales     costs  gross margin  \\\n",
       "id                                                                            \n",
       "11        Jakub Makowski   apple    sweet   6737.29   4377.87       2359.42   \n",
       "16  Leonardo Lewandowski   apple    sweet  12522.37   8499.96       4022.41   \n",
       "18        Jakub Makowski   apple    sweet   3737.58   3542.98        194.60   \n",
       "19        Jakub Makowski   apple    sweet   8852.90   5853.05       2999.85   \n",
       "20       Cezary Jaworski   apple    sweet  20446.02  18816.35       1629.67   \n",
       "\n",
       "    perc. margin  sales_groups  \n",
       "id                              \n",
       "11          0.35             0  \n",
       "16          0.32         20000  \n",
       "18          0.05         10000  \n",
       "19          0.34         10000  \n",
       "20          0.08         30000  "
      ]
     },
     "execution_count": 35,
     "metadata": {},
     "output_type": "execute_result"
    }
   ],
   "source": [
    "df.head()"
   ]
  },
  {
   "cell_type": "markdown",
   "metadata": {},
   "source": [
    "# From this point we have a clean database which can be used to make a prediction"
   ]
  },
  {
   "cell_type": "code",
   "execution_count": 36,
   "metadata": {},
   "outputs": [],
   "source": [
    "df= df.reset_index()"
   ]
  },
  {
   "cell_type": "code",
   "execution_count": 37,
   "metadata": {},
   "outputs": [
    {
     "data": {
      "text/html": [
       "<div>\n",
       "<style scoped>\n",
       "    .dataframe tbody tr th:only-of-type {\n",
       "        vertical-align: middle;\n",
       "    }\n",
       "\n",
       "    .dataframe tbody tr th {\n",
       "        vertical-align: top;\n",
       "    }\n",
       "\n",
       "    .dataframe thead th {\n",
       "        text-align: right;\n",
       "    }\n",
       "</style>\n",
       "<table border=\"1\" class=\"dataframe\">\n",
       "  <thead>\n",
       "    <tr style=\"text-align: right;\">\n",
       "      <th></th>\n",
       "      <th>Type</th>\n",
       "      <th>exog1</th>\n",
       "      <th>exog2</th>\n",
       "      <th>BUSINESS PARTNER</th>\n",
       "      <th>CLIENT</th>\n",
       "      <th>EMPLOYEE</th>\n",
       "      <th>Product</th>\n",
       "      <th>CATEGORY</th>\n",
       "      <th>sales</th>\n",
       "      <th>costs</th>\n",
       "    </tr>\n",
       "  </thead>\n",
       "  <tbody>\n",
       "    <tr>\n",
       "      <th>0</th>\n",
       "      <td>B</td>\n",
       "      <td>17.50</td>\n",
       "      <td>1127.0</td>\n",
       "      <td>AB LTD.</td>\n",
       "      <td>A&amp;D Sp. z o.o.</td>\n",
       "      <td>Jakub Makowski</td>\n",
       "      <td>apple</td>\n",
       "      <td>sweet</td>\n",
       "      <td>6737.29</td>\n",
       "      <td>4377.87</td>\n",
       "    </tr>\n",
       "    <tr>\n",
       "      <th>1</th>\n",
       "      <td>A</td>\n",
       "      <td>9.24</td>\n",
       "      <td>6398.0</td>\n",
       "      <td>AC LTD.</td>\n",
       "      <td>A&amp;F Sp. z o.o.</td>\n",
       "      <td>Leonardo Lewandowski</td>\n",
       "      <td>apple</td>\n",
       "      <td>sweet</td>\n",
       "      <td>12522.37</td>\n",
       "      <td>8499.96</td>\n",
       "    </tr>\n",
       "    <tr>\n",
       "      <th>2</th>\n",
       "      <td>A</td>\n",
       "      <td>21.00</td>\n",
       "      <td>13216.0</td>\n",
       "      <td>AD LTD.</td>\n",
       "      <td>A&amp;D Sp. z o.o.</td>\n",
       "      <td>Jakub Makowski</td>\n",
       "      <td>apple</td>\n",
       "      <td>sweet</td>\n",
       "      <td>3737.58</td>\n",
       "      <td>3542.98</td>\n",
       "    </tr>\n",
       "    <tr>\n",
       "      <th>3</th>\n",
       "      <td>A</td>\n",
       "      <td>52.71</td>\n",
       "      <td>24283.0</td>\n",
       "      <td>AD LTD.</td>\n",
       "      <td>A&amp;D Sp. z o.o.</td>\n",
       "      <td>Jakub Makowski</td>\n",
       "      <td>apple</td>\n",
       "      <td>sweet</td>\n",
       "      <td>8852.90</td>\n",
       "      <td>5853.05</td>\n",
       "    </tr>\n",
       "    <tr>\n",
       "      <th>4</th>\n",
       "      <td>A</td>\n",
       "      <td>53.83</td>\n",
       "      <td>4011.0</td>\n",
       "      <td>AD LTD.</td>\n",
       "      <td>A&amp;G Sp. z o.o.</td>\n",
       "      <td>Cezary Jaworski</td>\n",
       "      <td>apple</td>\n",
       "      <td>sweet</td>\n",
       "      <td>20446.02</td>\n",
       "      <td>18816.35</td>\n",
       "    </tr>\n",
       "    <tr>\n",
       "      <th>...</th>\n",
       "      <td>...</td>\n",
       "      <td>...</td>\n",
       "      <td>...</td>\n",
       "      <td>...</td>\n",
       "      <td>...</td>\n",
       "      <td>...</td>\n",
       "      <td>...</td>\n",
       "      <td>...</td>\n",
       "      <td>...</td>\n",
       "      <td>...</td>\n",
       "    </tr>\n",
       "    <tr>\n",
       "      <th>1291</th>\n",
       "      <td>A</td>\n",
       "      <td>0.63</td>\n",
       "      <td>770.0</td>\n",
       "      <td>CF LTD.</td>\n",
       "      <td>A&amp;D Sp. z o.o.</td>\n",
       "      <td>Andrzej Szczepański</td>\n",
       "      <td>apple</td>\n",
       "      <td>sweet</td>\n",
       "      <td>10760.19</td>\n",
       "      <td>10260.74</td>\n",
       "    </tr>\n",
       "    <tr>\n",
       "      <th>1292</th>\n",
       "      <td>A</td>\n",
       "      <td>114.03</td>\n",
       "      <td>12600.0</td>\n",
       "      <td>CV LTD.</td>\n",
       "      <td>A&amp;J Sp. z o.o.</td>\n",
       "      <td>Korneliusz Rutkowski</td>\n",
       "      <td>apple</td>\n",
       "      <td>sweet</td>\n",
       "      <td>18827.90</td>\n",
       "      <td>12389.37</td>\n",
       "    </tr>\n",
       "    <tr>\n",
       "      <th>1293</th>\n",
       "      <td>A</td>\n",
       "      <td>99.33</td>\n",
       "      <td>2002.0</td>\n",
       "      <td>CV LTD.</td>\n",
       "      <td>A&amp;I Sp. z o.o.</td>\n",
       "      <td>Korneliusz Rutkowski</td>\n",
       "      <td>apple</td>\n",
       "      <td>sweet</td>\n",
       "      <td>16379.72</td>\n",
       "      <td>10792.18</td>\n",
       "    </tr>\n",
       "    <tr>\n",
       "      <th>1294</th>\n",
       "      <td>A</td>\n",
       "      <td>40.25</td>\n",
       "      <td>2730.0</td>\n",
       "      <td>CV LTD.</td>\n",
       "      <td>A&amp;J Sp. z o.o.</td>\n",
       "      <td>Korneliusz Rutkowski</td>\n",
       "      <td>apple</td>\n",
       "      <td>sweet</td>\n",
       "      <td>7133.91</td>\n",
       "      <td>4373.18</td>\n",
       "    </tr>\n",
       "    <tr>\n",
       "      <th>1295</th>\n",
       "      <td>A</td>\n",
       "      <td>66.08</td>\n",
       "      <td>12544.0</td>\n",
       "      <td>GS LTD.</td>\n",
       "      <td>D&amp;K Sp. z o.o.</td>\n",
       "      <td>Leonardo Lewandowski</td>\n",
       "      <td>peach</td>\n",
       "      <td>sour</td>\n",
       "      <td>33594.33</td>\n",
       "      <td>27581.54</td>\n",
       "    </tr>\n",
       "  </tbody>\n",
       "</table>\n",
       "<p>1296 rows × 10 columns</p>\n",
       "</div>"
      ],
      "text/plain": [
       "     Type   exog1    exog2 BUSINESS PARTNER          CLIENT  \\\n",
       "0       B   17.50   1127.0         AB LTD.   A&D Sp. z o.o.   \n",
       "1       A    9.24   6398.0         AC LTD.   A&F Sp. z o.o.   \n",
       "2       A   21.00  13216.0         AD LTD.   A&D Sp. z o.o.   \n",
       "3       A   52.71  24283.0         AD LTD.   A&D Sp. z o.o.   \n",
       "4       A   53.83   4011.0         AD LTD.   A&G Sp. z o.o.   \n",
       "...   ...     ...      ...              ...             ...   \n",
       "1291    A    0.63    770.0         CF LTD.   A&D Sp. z o.o.   \n",
       "1292    A  114.03  12600.0         CV LTD.   A&J Sp. z o.o.   \n",
       "1293    A   99.33   2002.0         CV LTD.   A&I Sp. z o.o.   \n",
       "1294    A   40.25   2730.0         CV LTD.   A&J Sp. z o.o.   \n",
       "1295    A   66.08  12544.0         GS LTD.   D&K Sp. z o.o.   \n",
       "\n",
       "                  EMPLOYEE Product CATEGORY     sales     costs  \n",
       "0           Jakub Makowski   apple    sweet   6737.29   4377.87  \n",
       "1     Leonardo Lewandowski   apple    sweet  12522.37   8499.96  \n",
       "2           Jakub Makowski   apple    sweet   3737.58   3542.98  \n",
       "3           Jakub Makowski   apple    sweet   8852.90   5853.05  \n",
       "4          Cezary Jaworski   apple    sweet  20446.02  18816.35  \n",
       "...                    ...     ...      ...       ...       ...  \n",
       "1291   Andrzej Szczepański   apple    sweet  10760.19  10260.74  \n",
       "1292  Korneliusz Rutkowski   apple    sweet  18827.90  12389.37  \n",
       "1293  Korneliusz Rutkowski   apple    sweet  16379.72  10792.18  \n",
       "1294  Korneliusz Rutkowski   apple    sweet   7133.91   4373.18  \n",
       "1295  Leonardo Lewandowski   peach     sour  33594.33  27581.54  \n",
       "\n",
       "[1296 rows x 10 columns]"
      ]
     },
     "execution_count": 37,
     "metadata": {},
     "output_type": "execute_result"
    }
   ],
   "source": [
    "df = df.drop(columns=['ORDER NO.','perc. margin','sales_groups','gross margin','id'])\n",
    "df"
   ]
  },
  {
   "cell_type": "code",
   "execution_count": 38,
   "metadata": {},
   "outputs": [],
   "source": [
    "y = df['sales'].values\n",
    "X = df[['exog1','exog2','Type','BUSINESS PARTNER','CLIENT','EMPLOYEE','Product','CATEGORY']].values"
   ]
  },
  {
   "cell_type": "code",
   "execution_count": 39,
   "metadata": {},
   "outputs": [],
   "source": [
    "from sklearn.compose import ColumnTransformer\n",
    "from sklearn.preprocessing import OneHotEncoder\n",
    "ct = ColumnTransformer(transformers=[('encoder',OneHotEncoder(),[2,3,4,5,6,7])],remainder='passthrough')\n",
    "X=ct.fit_transform(X)"
   ]
  },
  {
   "cell_type": "code",
   "execution_count": 40,
   "metadata": {},
   "outputs": [],
   "source": [
    "from sklearn.model_selection import train_test_split\n",
    "X_train,X_test,y_train,y_test = train_test_split(X,y,test_size=1/3,random_state=42)"
   ]
  },
  {
   "cell_type": "code",
   "execution_count": 41,
   "metadata": {},
   "outputs": [
    {
     "data": {
      "text/plain": [
       "LinearRegression()"
      ]
     },
     "execution_count": 41,
     "metadata": {},
     "output_type": "execute_result"
    }
   ],
   "source": [
    "from sklearn.linear_model import LinearRegression\n",
    "regressor=LinearRegression()\n",
    "regressor.fit(X_train,y_train)"
   ]
  },
  {
   "cell_type": "code",
   "execution_count": 42,
   "metadata": {},
   "outputs": [],
   "source": [
    "y_pred= regressor.predict(X_test)"
   ]
  },
  {
   "cell_type": "code",
   "execution_count": 43,
   "metadata": {},
   "outputs": [
    {
     "name": "stdout",
     "output_type": "stream",
     "text": [
      "R squared value:  0.6779948423398119\n",
      "Root Mean Squared Error :  8855.928707223347\n",
      "Mean Absolute Error :  5663.835136889079\n"
     ]
    }
   ],
   "source": [
    "from sklearn.metrics import r2_score,mean_absolute_error, mean_squared_error\n",
    "MSE = mean_squared_error(y_test,y_pred)\n",
    "MAE = mean_absolute_error(y_test,y_pred)\n",
    "r2=r2_score(y_test,y_pred)\n",
    "RMSE = np.sqrt(MSE)\n",
    "print(\"R squared value: \", r2)\n",
    "print(\"Root Mean Squared Error : \", RMSE)\n",
    "print(\"Mean Absolute Error : \", MAE)"
   ]
  },
  {
   "cell_type": "code",
   "execution_count": 44,
   "metadata": {},
   "outputs": [
    {
     "name": "stdout",
     "output_type": "stream",
     "text": [
      "6441862.955231451\n",
      "6814023.930000003\n",
      "linear regression model has forcasted  372160.97 PLN less sales than it was in test set\n"
     ]
    }
   ],
   "source": [
    "print(sum(y_pred))\n",
    "print(sum(y_test))\n",
    "print(\"linear regression model has forcasted \",round(sum(y_test)-sum(y_pred),2),\"PLN less sales than it was in test set\")"
   ]
  },
  {
   "cell_type": "markdown",
   "metadata": {},
   "source": [
    "# POLYNOMIAL REGRESSION"
   ]
  },
  {
   "cell_type": "code",
   "execution_count": 45,
   "metadata": {},
   "outputs": [
    {
     "data": {
      "text/plain": [
       "LinearRegression()"
      ]
     },
     "execution_count": 45,
     "metadata": {},
     "output_type": "execute_result"
    }
   ],
   "source": [
    "from sklearn.preprocessing import PolynomialFeatures\n",
    "poly_reg = PolynomialFeatures(degree = 2)\n",
    "X_poly = poly_reg.fit_transform(X)\n",
    "lin_reg_2 = LinearRegression()\n",
    "lin_reg_2.fit(X_poly,y)"
   ]
  },
  {
   "cell_type": "code",
   "execution_count": 46,
   "metadata": {},
   "outputs": [],
   "source": [
    "y2_pred = lin_reg_2.predict(poly_reg.fit_transform(X_test))"
   ]
  },
  {
   "cell_type": "code",
   "execution_count": 47,
   "metadata": {},
   "outputs": [
    {
     "name": "stdout",
     "output_type": "stream",
     "text": [
      "R squared value:  0.8559126866663017\n",
      "Root Mean Squared Error :  5924.007087820662\n",
      "Mean Absolute Error :  4102.992597563053\n"
     ]
    }
   ],
   "source": [
    "from sklearn.metrics import r2_score, mean_absolute_error, mean_squared_error\n",
    "MSE_2=mean_squared_error(y_test,y2_pred)\n",
    "MAE_2=mean_absolute_error(y_test,y2_pred)\n",
    "r2_2=r2_score(y_test,y2_pred)\n",
    "RMSE_2 = np.sqrt(MSE_2)\n",
    "print(\"R squared value: \", r2_2)\n",
    "print(\"Root Mean Squared Error : \", RMSE_2)\n",
    "print(\"Mean Absolute Error : \", MAE_2)"
   ]
  },
  {
   "cell_type": "code",
   "execution_count": 48,
   "metadata": {},
   "outputs": [
    {
     "name": "stdout",
     "output_type": "stream",
     "text": [
      "6670979.995262054\n",
      "6814023.930000003\n",
      "POLYNOMIAL REGRESSION model has forcasted  143043.93 PLN less sales than it was in test set\n"
     ]
    }
   ],
   "source": [
    "print(sum(y2_pred))\n",
    "print(sum(y_test))\n",
    "print(\"POLYNOMIAL REGRESSION model has forcasted \",round(sum(y_test)-sum(y2_pred),2),\"PLN less sales than it was in test set\")"
   ]
  },
  {
   "cell_type": "markdown",
   "metadata": {},
   "source": [
    "# DECISSION TREE"
   ]
  },
  {
   "cell_type": "code",
   "execution_count": 49,
   "metadata": {},
   "outputs": [
    {
     "name": "stdout",
     "output_type": "stream",
     "text": [
      "Fitting 10 folds for each of 4332 candidates, totalling 43320 fits\n"
     ]
    },
    {
     "name": "stderr",
     "output_type": "stream",
     "text": [
      "[Parallel(n_jobs=-1)]: Using backend LokyBackend with 4 concurrent workers.\n",
      "[Parallel(n_jobs=-1)]: Done  35 tasks      | elapsed:    2.6s\n",
      "[Parallel(n_jobs=-1)]: Done 10512 tasks      | elapsed:   12.7s\n",
      "[Parallel(n_jobs=-1)]: Done 35560 tasks      | elapsed:   40.8s\n",
      "[Parallel(n_jobs=-1)]: Done 42352 tasks      | elapsed:  1.1min\n",
      "[Parallel(n_jobs=-1)]: Done 43320 out of 43320 | elapsed:  1.1min finished\n"
     ]
    },
    {
     "data": {
      "text/plain": [
       "GridSearchCV(cv=10, estimator=DecisionTreeRegressor(), n_jobs=-1,\n",
       "             param_grid={'criterion': ['gini', 'entropy', 'mse'],\n",
       "                         'max_depth': range(1, 20),\n",
       "                         'min_samples_leaf': range(1, 5),\n",
       "                         'min_samples_split': range(1, 20)},\n",
       "             scoring='neg_mean_squared_error', verbose=2)"
      ]
     },
     "execution_count": 49,
     "metadata": {},
     "output_type": "execute_result"
    }
   ],
   "source": [
    "from sklearn.model_selection import GridSearchCV\n",
    "from sklearn.tree import DecisionTreeRegressor\n",
    "# Create the parameter grid based on the results of random search \n",
    "param_grid = {\n",
    "    'criterion':['gini','entropy','mse'],\n",
    "    'max_depth':range(1,20),\n",
    "    'min_samples_split':range(1,20),\n",
    "    'min_samples_leaf':range(1,5)\n",
    "}\n",
    "# Create a based model\n",
    "dt = DecisionTreeRegressor()\n",
    "# Instantiate the grid search model\n",
    "grid_search_dt = GridSearchCV(estimator = dt, param_grid = param_grid, \n",
    "                          cv = 10, n_jobs = -1, verbose = 2,scoring='neg_mean_squared_error')\n",
    "grid_search_dt.fit(X_train,y_train)"
   ]
  },
  {
   "cell_type": "code",
   "execution_count": 50,
   "metadata": {},
   "outputs": [
    {
     "data": {
      "text/plain": [
       "{'criterion': 'mse',\n",
       " 'max_depth': 11,\n",
       " 'min_samples_leaf': 1,\n",
       " 'min_samples_split': 9}"
      ]
     },
     "execution_count": 50,
     "metadata": {},
     "output_type": "execute_result"
    }
   ],
   "source": [
    "dt_best_params=grid_search_dt.best_params_\n",
    "dt_best_params"
   ]
  },
  {
   "cell_type": "code",
   "execution_count": 51,
   "metadata": {},
   "outputs": [
    {
     "data": {
      "text/plain": [
       "DecisionTreeRegressor(max_depth=11, min_samples_split=9, random_state=0)"
      ]
     },
     "execution_count": 51,
     "metadata": {},
     "output_type": "execute_result"
    }
   ],
   "source": [
    "from sklearn.tree import DecisionTreeRegressor\n",
    "regressor = DecisionTreeRegressor(criterion=dt_best_params['criterion'],max_depth=dt_best_params['max_depth'],\n",
    "                                 min_samples_leaf=dt_best_params['min_samples_leaf'],min_samples_split=dt_best_params['min_samples_split'],random_state=0)\n",
    "regressor.fit(X_train,y_train)"
   ]
  },
  {
   "cell_type": "code",
   "execution_count": 52,
   "metadata": {},
   "outputs": [],
   "source": [
    "y4_pred = regressor.predict(X_test)"
   ]
  },
  {
   "cell_type": "code",
   "execution_count": 53,
   "metadata": {},
   "outputs": [
    {
     "name": "stdout",
     "output_type": "stream",
     "text": [
      "R squared value:  0.6228056370548283\n",
      "Root Mean Squared Error :  9584.84942316939\n",
      "Mean Absolute Error :  5781.466984130798\n"
     ]
    }
   ],
   "source": [
    "MSE_4=mean_squared_error(y_test,y4_pred)\n",
    "MAE_4=mean_absolute_error(y_test,y4_pred)\n",
    "r2_4=r2_score(y_test,y4_pred)\n",
    "RMSE_4 = np.sqrt(MSE_4)\n",
    "print(\"R squared value: \", r2_4)\n",
    "print(\"Root Mean Squared Error : \", RMSE_4)\n",
    "print(\"Mean Absolute Error : \", MAE_4)"
   ]
  },
  {
   "cell_type": "code",
   "execution_count": 54,
   "metadata": {},
   "outputs": [
    {
     "name": "stdout",
     "output_type": "stream",
     "text": [
      "6299905.763314954\n",
      "6814023.930000003\n",
      "DECISSION TREE model has forcasted  514118.17 PLN less sales than it was in test set\n"
     ]
    }
   ],
   "source": [
    "print(sum(y4_pred))\n",
    "print(sum(y_test))\n",
    "print(\"DECISSION TREE model has forcasted \",round(sum(y_test)-sum(y4_pred),2),\"PLN less sales than it was in test set\")"
   ]
  },
  {
   "cell_type": "markdown",
   "metadata": {},
   "source": [
    "# RANDOM FOREST REGRESSION"
   ]
  },
  {
   "cell_type": "code",
   "execution_count": 55,
   "metadata": {},
   "outputs": [
    {
     "name": "stdout",
     "output_type": "stream",
     "text": [
      "{'n_estimators': [10, 20, 30, 40, 50, 60, 70, 80, 90, 100], 'max_features': ['auto', 'sqrt'], 'max_depth': [10, 20, 30, 40, 50, 60, 70, 80, 90, 100, 110, 120, 130, 140, 150, 160, 170, 180, 190, 200, 210, None], 'min_samples_split': [2, 5, 10], 'min_samples_leaf': [1, 2, 4], 'bootstrap': [True, False]}\n"
     ]
    }
   ],
   "source": [
    "from sklearn.model_selection import RandomizedSearchCV\n",
    "# Number of trees in random forest\n",
    "n_estimators = [int(x) for x in np.linspace(start = 10, stop = 100, num = 10)]\n",
    "# Number of features to consider at every split\n",
    "max_features = ['auto', 'sqrt']\n",
    "# Maximum number of levels in tree\n",
    "max_depth = [int(x) for x in np.linspace(10, 210, num = 21)]\n",
    "max_depth.append(None)\n",
    "# Minimum number of samples required to split a node\n",
    "min_samples_split = [2, 5, 10]\n",
    "# Minimum number of samples required at each leaf node\n",
    "min_samples_leaf = [1, 2, 4]\n",
    "# Method of selecting samples for training each tree\n",
    "bootstrap = [True, False]\n",
    "# Create the random grid\n",
    "random_grid = {'n_estimators': n_estimators,\n",
    "               'max_features': max_features,\n",
    "               'max_depth': max_depth,\n",
    "               'min_samples_split': min_samples_split,\n",
    "               'min_samples_leaf': min_samples_leaf,\n",
    "               'bootstrap': bootstrap}\n",
    "print(random_grid)\n"
   ]
  },
  {
   "cell_type": "code",
   "execution_count": 56,
   "metadata": {},
   "outputs": [
    {
     "name": "stdout",
     "output_type": "stream",
     "text": [
      "Fitting 3 folds for each of 100 candidates, totalling 300 fits\n"
     ]
    },
    {
     "name": "stderr",
     "output_type": "stream",
     "text": [
      "[Parallel(n_jobs=-1)]: Using backend LokyBackend with 4 concurrent workers.\n",
      "[Parallel(n_jobs=-1)]: Done  33 tasks      | elapsed:    4.4s\n",
      "[Parallel(n_jobs=-1)]: Done 154 tasks      | elapsed:   15.9s\n",
      "[Parallel(n_jobs=-1)]: Done 300 out of 300 | elapsed:   31.0s finished\n"
     ]
    },
    {
     "data": {
      "text/plain": [
       "RandomizedSearchCV(cv=3, estimator=RandomForestRegressor(), n_iter=100,\n",
       "                   n_jobs=-1,\n",
       "                   param_distributions={'bootstrap': [True, False],\n",
       "                                        'max_depth': [10, 20, 30, 40, 50, 60,\n",
       "                                                      70, 80, 90, 100, 110, 120,\n",
       "                                                      130, 140, 150, 160, 170,\n",
       "                                                      180, 190, 200, 210,\n",
       "                                                      None],\n",
       "                                        'max_features': ['auto', 'sqrt'],\n",
       "                                        'min_samples_leaf': [1, 2, 4],\n",
       "                                        'min_samples_split': [2, 5, 10],\n",
       "                                        'n_estimators': [10, 20, 30, 40, 50, 60,\n",
       "                                                         70, 80, 90, 100]},\n",
       "                   random_state=0, scoring='neg_mean_squared_error', verbose=2)"
      ]
     },
     "execution_count": 56,
     "metadata": {},
     "output_type": "execute_result"
    }
   ],
   "source": [
    "from sklearn.ensemble import RandomForestRegressor\n",
    "rf = RandomForestRegressor()\n",
    "rf_random = RandomizedSearchCV(estimator = rf, \n",
    "                               param_distributions = random_grid, \n",
    "                               n_iter = 100, cv = 3, verbose=2, random_state=0, n_jobs = -1,scoring='neg_mean_squared_error')\n",
    "rf_random.fit(X_train, y_train)"
   ]
  },
  {
   "cell_type": "code",
   "execution_count": 57,
   "metadata": {},
   "outputs": [
    {
     "data": {
      "text/plain": [
       "{'n_estimators': 90,\n",
       " 'min_samples_split': 2,\n",
       " 'min_samples_leaf': 1,\n",
       " 'max_features': 'sqrt',\n",
       " 'max_depth': 180,\n",
       " 'bootstrap': False}"
      ]
     },
     "execution_count": 57,
     "metadata": {},
     "output_type": "execute_result"
    }
   ],
   "source": [
    "rf_random.best_params_"
   ]
  },
  {
   "cell_type": "code",
   "execution_count": 58,
   "metadata": {},
   "outputs": [],
   "source": [
    "from sklearn.model_selection import GridSearchCV\n",
    "random_n_estimators = rf_random.best_params_['n_estimators']\n",
    "# Create the parameter grid based on the results of random search \n",
    "param_grid = {\n",
    "    'bootstrap': [rf_random.best_params_['bootstrap']],\n",
    "    'max_depth': [rf_random.best_params_['max_depth'],rf_random.best_params_['max_depth']+10,rf_random.best_params_['max_depth']+20,rf_random.best_params_['max_depth']+30],\n",
    "    'max_features': [rf_random.best_params_['max_features']],\n",
    "    'min_samples_leaf': [rf_random.best_params_['min_samples_leaf']-1,rf_random.best_params_['min_samples_leaf']+1,rf_random.best_params_['min_samples_leaf']+2],\n",
    "    'min_samples_split': [rf_random.best_params_['min_samples_split']-1,rf_random.best_params_['min_samples_split'],rf_random.best_params_['min_samples_split']+1],\n",
    "    'n_estimators': [30,random_n_estimators-20,random_n_estimators-10,random_n_estimators,random_n_estimators+10,random_n_estimators+20]\n",
    "}\n",
    "# Create a based model\n",
    "rf = RandomForestRegressor()\n",
    "# Instantiate the grid search model\n",
    "grid_search_rf = GridSearchCV(estimator = rf, param_grid = param_grid, \n",
    "                          cv = 3, n_jobs = -1, verbose = 2,scoring='neg_mean_squared_error')"
   ]
  },
  {
   "cell_type": "code",
   "execution_count": 59,
   "metadata": {},
   "outputs": [
    {
     "name": "stdout",
     "output_type": "stream",
     "text": [
      "Fitting 3 folds for each of 216 candidates, totalling 648 fits\n"
     ]
    },
    {
     "name": "stderr",
     "output_type": "stream",
     "text": [
      "[Parallel(n_jobs=-1)]: Using backend LokyBackend with 4 concurrent workers.\n",
      "[Parallel(n_jobs=-1)]: Done  58 tasks      | elapsed:    1.1s\n",
      "[Parallel(n_jobs=-1)]: Done 300 tasks      | elapsed:   13.2s\n",
      "[Parallel(n_jobs=-1)]: Done 648 out of 648 | elapsed:   29.4s finished\n"
     ]
    },
    {
     "data": {
      "text/plain": [
       "{'bootstrap': False,\n",
       " 'max_depth': 190,\n",
       " 'max_features': 'sqrt',\n",
       " 'min_samples_leaf': 2,\n",
       " 'min_samples_split': 2,\n",
       " 'n_estimators': 70}"
      ]
     },
     "execution_count": 59,
     "metadata": {},
     "output_type": "execute_result"
    }
   ],
   "source": [
    "# Fit the grid search to the data\n",
    "grid_search_rf.fit(X_train, y_train)\n",
    "rf_best_params=grid_search_rf.best_params_\n",
    "rf_best_params"
   ]
  },
  {
   "cell_type": "code",
   "execution_count": 60,
   "metadata": {},
   "outputs": [
    {
     "data": {
      "text/plain": [
       "RandomForestRegressor(bootstrap=False, max_depth=190, max_features='sqrt',\n",
       "                      min_samples_leaf=2, n_estimators=70, random_state=0)"
      ]
     },
     "execution_count": 60,
     "metadata": {},
     "output_type": "execute_result"
    }
   ],
   "source": [
    "from sklearn.ensemble import RandomForestRegressor\n",
    "regressor = RandomForestRegressor(n_estimators = rf_best_params['n_estimators'],bootstrap=rf_best_params['bootstrap'],\n",
    "                                  max_depth=rf_best_params['max_depth'],max_features=rf_best_params['max_features'],\n",
    "                                  min_samples_leaf=rf_best_params['min_samples_leaf'], min_samples_split=rf_best_params['min_samples_split'],\n",
    "                                  random_state=0                                  \n",
    "                                  )\n",
    "regressor.fit(X_train,y_train)"
   ]
  },
  {
   "cell_type": "code",
   "execution_count": 61,
   "metadata": {},
   "outputs": [
    {
     "data": {
      "text/plain": [
       "RandomForestRegressor(n_estimators=30, random_state=0)"
      ]
     },
     "execution_count": 61,
     "metadata": {},
     "output_type": "execute_result"
    }
   ],
   "source": [
    "from sklearn.ensemble import RandomForestRegressor\n",
    "regressor = RandomForestRegressor(n_estimators = 30,random_state = 0)\n",
    "regressor.fit(X_train,y_train)"
   ]
  },
  {
   "cell_type": "code",
   "execution_count": 62,
   "metadata": {},
   "outputs": [],
   "source": [
    "y5_pred = regressor.predict(X_test)"
   ]
  },
  {
   "cell_type": "code",
   "execution_count": 63,
   "metadata": {},
   "outputs": [
    {
     "name": "stdout",
     "output_type": "stream",
     "text": [
      "R squared value:  0.636703996671068\n",
      "Root Mean Squared Error :  9406.607169402483\n",
      "Mean Absolute Error :  5357.926970181756\n"
     ]
    }
   ],
   "source": [
    "MSE_5=mean_squared_error(y_test,y5_pred)\n",
    "MAE_5=mean_absolute_error(y_test,y5_pred)\n",
    "r2_5=r2_score(y_test,y5_pred)\n",
    "RMSE_5 = np.sqrt(MSE_5)\n",
    "print(\"R squared value: \", r2_5)\n",
    "print(\"Root Mean Squared Error : \", RMSE_5)\n",
    "print(\"Mean Absolute Error : \", MAE_5)"
   ]
  },
  {
   "cell_type": "code",
   "execution_count": 64,
   "metadata": {},
   "outputs": [
    {
     "name": "stdout",
     "output_type": "stream",
     "text": [
      "5939480.659103699\n",
      "6814023.930000003\n",
      "RANDOM FOREST REGRESSION model has forcasted  514118.17 PLN less sales than it was in test set\n"
     ]
    }
   ],
   "source": [
    "print(sum(y5_pred))\n",
    "print(sum(y_test))\n",
    "print(\"RANDOM FOREST REGRESSION model has forcasted \",round(sum(y_test)-sum(y4_pred),2),\"PLN less sales than it was in test set\")"
   ]
  },
  {
   "cell_type": "markdown",
   "metadata": {},
   "source": [
    " # SUPPORT VECTOR REGRESSION"
   ]
  },
  {
   "cell_type": "code",
   "execution_count": 65,
   "metadata": {},
   "outputs": [],
   "source": [
    "y_test = y_test.reshape(len(y_test),1)\n",
    "y_train = y_train.reshape(len(y_train),1)"
   ]
  },
  {
   "cell_type": "code",
   "execution_count": 66,
   "metadata": {},
   "outputs": [],
   "source": [
    "from sklearn.preprocessing import StandardScaler\n",
    "sc_X = StandardScaler(with_mean=False)\n",
    "sc_y = StandardScaler(with_mean=False)\n",
    "X_train[:,-2:] = sc_X.fit_transform(X_train[:,-2:]) \n",
    "X_test[:,-2:] = sc_X.transform(X_test[:,-2:]) # TUTAJ TRZEBA COŚ ZMIENIĆ\n",
    "y_train = sc_y.fit_transform(y_train)\n",
    "y_test = sc_y.transform(y_test) "
   ]
  },
  {
   "cell_type": "code",
   "execution_count": 67,
   "metadata": {},
   "outputs": [
    {
     "name": "stdout",
     "output_type": "stream",
     "text": [
      "y test:  [1.14179321]\n",
      "x test:  [[0.56319111 1.12460995]]\n"
     ]
    }
   ],
   "source": [
    "print('y test: ', y_test[0])\n",
    "print('x test: ', X_train[:,:][0,-2:].toarray())"
   ]
  },
  {
   "cell_type": "code",
   "execution_count": 68,
   "metadata": {},
   "outputs": [],
   "source": [
    "from sklearn.model_selection import GridSearchCV\n",
    "from sklearn.svm import SVR\n",
    "gsc=GridSearchCV(\n",
    "        estimator=SVR(),\n",
    "        param_grid={\n",
    "            'kernel':['linear','rbf'],\n",
    "            'C': [0.1, 1, 3, 5,7,10],\n",
    "            'epsilon': [0.0001, 0.0005, 0.001, 0.005, 0.01, 0.05, 0.1, 0.5, 1, 5, 10],\n",
    "            'gamma': [0.0001, 0.001, 0.005, 0.1, 1, 3, 5]\n",
    "        },\n",
    "        cv=5, scoring='neg_mean_squared_error', verbose=0, n_jobs=-1) "
   ]
  },
  {
   "cell_type": "code",
   "execution_count": 69,
   "metadata": {},
   "outputs": [
    {
     "name": "stderr",
     "output_type": "stream",
     "text": [
      "C:\\Users\\Cezary.Sosnowski.CZAREK\\anaconda3\\lib\\site-packages\\sklearn\\utils\\validation.py:72: DataConversionWarning: A column-vector y was passed when a 1d array was expected. Please change the shape of y to (n_samples, ), for example using ravel().\n",
      "  return f(**kwargs)\n"
     ]
    },
    {
     "data": {
      "text/plain": [
       "{'C': 7, 'epsilon': 0.1, 'gamma': 0.1, 'kernel': 'rbf'}"
      ]
     },
     "execution_count": 69,
     "metadata": {},
     "output_type": "execute_result"
    }
   ],
   "source": [
    "grid_result = gsc.fit(X_train, y_train)\n",
    "best_params = grid_result.best_params_\n",
    "best_params"
   ]
  },
  {
   "cell_type": "code",
   "execution_count": 70,
   "metadata": {},
   "outputs": [
    {
     "data": {
      "text/plain": [
       "SVR(C=7, coef0=0.1, gamma=0.1)"
      ]
     },
     "execution_count": 70,
     "metadata": {},
     "output_type": "execute_result"
    }
   ],
   "source": [
    "regressor = SVR(kernel=best_params['kernel'], C=best_params['C'], epsilon=best_params['epsilon'], gamma=best_params['gamma'],\n",
    "                   coef0=0.1, shrinking=True,\n",
    "                   tol=0.001, cache_size=200, verbose=False, max_iter=-1)\n",
    "regressor.fit(X_train,y_train)"
   ]
  },
  {
   "cell_type": "code",
   "execution_count": 71,
   "metadata": {},
   "outputs": [],
   "source": [
    "y3_pred = sc_y.inverse_transform(regressor.predict(X_test))\n",
    "y_test = sc_y.inverse_transform(y_test)"
   ]
  },
  {
   "cell_type": "code",
   "execution_count": 72,
   "metadata": {},
   "outputs": [
    {
     "name": "stdout",
     "output_type": "stream",
     "text": [
      "R squared value:  0.7384540139808385\n",
      "Root Mean Squared Error :  7981.356823807358\n",
      "Mean Absolute Error :  4580.816816328663\n"
     ]
    }
   ],
   "source": [
    "MSE_3=mean_squared_error(y_test,y3_pred)\n",
    "MAE_3=mean_absolute_error(y_test,y3_pred)\n",
    "r2_3=r2_score(y_test,y3_pred)\n",
    "RMSE_3 = np.sqrt(MSE_3)\n",
    "print(\"R squared value: \", r2_3)\n",
    "print(\"Root Mean Squared Error : \", RMSE_3)\n",
    "print(\"Mean Absolute Error : \", MAE_3)"
   ]
  },
  {
   "cell_type": "markdown",
   "metadata": {},
   "source": [
    "# VISUALISATION OF RESULTS"
   ]
  },
  {
   "cell_type": "code",
   "execution_count": 73,
   "metadata": {},
   "outputs": [
    {
     "data": {
      "text/html": [
       "<div>\n",
       "<style scoped>\n",
       "    .dataframe tbody tr th:only-of-type {\n",
       "        vertical-align: middle;\n",
       "    }\n",
       "\n",
       "    .dataframe tbody tr th {\n",
       "        vertical-align: top;\n",
       "    }\n",
       "\n",
       "    .dataframe thead th {\n",
       "        text-align: right;\n",
       "    }\n",
       "</style>\n",
       "<table border=\"1\" class=\"dataframe\">\n",
       "  <thead>\n",
       "    <tr style=\"text-align: right;\">\n",
       "      <th></th>\n",
       "      <th>r2</th>\n",
       "      <th>MAE</th>\n",
       "      <th>RMSE</th>\n",
       "    </tr>\n",
       "  </thead>\n",
       "  <tbody>\n",
       "    <tr>\n",
       "      <th>PR</th>\n",
       "      <td>0.855913</td>\n",
       "      <td>4102.992598</td>\n",
       "      <td>5924.007088</td>\n",
       "    </tr>\n",
       "    <tr>\n",
       "      <th>SVR</th>\n",
       "      <td>0.738454</td>\n",
       "      <td>4580.816816</td>\n",
       "      <td>7981.356824</td>\n",
       "    </tr>\n",
       "    <tr>\n",
       "      <th>SLR</th>\n",
       "      <td>0.677995</td>\n",
       "      <td>5663.835137</td>\n",
       "      <td>8855.928707</td>\n",
       "    </tr>\n",
       "    <tr>\n",
       "      <th>RFR</th>\n",
       "      <td>0.636704</td>\n",
       "      <td>5357.926970</td>\n",
       "      <td>9406.607169</td>\n",
       "    </tr>\n",
       "    <tr>\n",
       "      <th>DT</th>\n",
       "      <td>0.622806</td>\n",
       "      <td>5781.466984</td>\n",
       "      <td>9584.849423</td>\n",
       "    </tr>\n",
       "  </tbody>\n",
       "</table>\n",
       "</div>"
      ],
      "text/plain": [
       "           r2          MAE         RMSE\n",
       "PR   0.855913  4102.992598  5924.007088\n",
       "SVR  0.738454  4580.816816  7981.356824\n",
       "SLR  0.677995  5663.835137  8855.928707\n",
       "RFR  0.636704  5357.926970  9406.607169\n",
       "DT   0.622806  5781.466984  9584.849423"
      ]
     },
     "execution_count": 73,
     "metadata": {},
     "output_type": "execute_result"
    }
   ],
   "source": [
    "models = {'SLR':[r2,MAE,RMSE],'PR':[r2_2,MAE_2,RMSE_2], 'SVR':[r2_3,MAE_3,RMSE_3],'DT':[r2_4,MAE_4,RMSE_4],'RFR':[r2_5,MAE_5,RMSE_5]}\n",
    "models = pd.DataFrame(models,index=['r2','MAE','RMSE'])\n",
    "models = models.T.sort_values(by='r2',ascending=False)\n",
    "models"
   ]
  },
  {
   "cell_type": "code",
   "execution_count": 74,
   "metadata": {},
   "outputs": [
    {
     "data": {
      "text/plain": [
       "Text(0.5, 1.0, 'VALUE OF r2')"
      ]
     },
     "execution_count": 74,
     "metadata": {},
     "output_type": "execute_result"
    },
    {
     "data": {
      "image/png": "[encoded data removed]",
      "text/plain": [
       "<Figure size 432x288 with 1 Axes>"
      ]
     },
     "metadata": {
      "needs_background": "light"
     },
     "output_type": "display_data"
    }
   ],
   "source": [
    "fig = sns.barplot(x=models.index, y=\"r2\", data=models)\n",
    "fig.set_title('VALUE OF r2')"
   ]
  },
  {
   "cell_type": "code",
   "execution_count": 75,
   "metadata": {},
   "outputs": [],
   "source": [
    "slr_mistakes = [y_test[i][0] - y_pred[i] for i in range(0,len(y_test))]\n",
    "pr_mistakes = [y_test[i][0] - y2_pred[i] for i in range(0,len(y_test))]\n",
    "svr_mistakes = [y_test[i][0] - y3_pred[i] for i in range(0,len(y_test))]\n",
    "dt_mistakes = [y_test[i][0] - y4_pred[i] for i in range(0,len(y_test))]\n",
    "rfr_mistakes = [y_test[i][0] - y5_pred[i] for i in range(0,len(y_test))]"
   ]
  },
  {
   "cell_type": "code",
   "execution_count": 76,
   "metadata": {
    "scrolled": true
   },
   "outputs": [
    {
     "data": {
      "image/png": "[encoded data removed]",
      "text/plain": [
       "<Figure size 1080x720 with 6 Axes>"
      ]
     },
     "metadata": {
      "needs_background": "light"
     },
     "output_type": "display_data"
    }
   ],
   "source": [
    "n_bins=30\n",
    "fig, axes = plt.subplots(2, 3,figsize=(15, 10), sharey=True)\n",
    "fig.suptitle('Distribution of predictions and test set')\n",
    "\n",
    "sns.histplot(ax=axes[0,0],data = y_test,bins=n_bins)\n",
    "axes[0,0].set_title('TEST SET')\n",
    "sns.histplot(ax=axes[0,1],data = y_pred,bins=n_bins)\n",
    "axes[0,1].set_title('Simple regression')\n",
    "sns.histplot(ax=axes[0,2],data = y2_pred,bins=n_bins)\n",
    "axes[0,2].set_title('Polynomial regression')\n",
    "sns.histplot(ax=axes[1,0],data = y3_pred,bins=n_bins)\n",
    "axes[1,0].set_title('Support Vector Regression')\n",
    "sns.histplot(ax=axes[1,1],data = y4_pred,bins=n_bins)\n",
    "axes[1,1].set_title('Decission Tree')\n",
    "sns.histplot(ax=axes[1,2],data = y5_pred,bins=n_bins)\n",
    "axes[1,2].set_title('Random Forrest Regression')\n",
    "axes[0,0].get_legend().remove()"
   ]
  },
  {
   "cell_type": "markdown",
   "metadata": {},
   "source": [
    "# we can assume that the polynomial regression model should not behave as over/under fitted and is the most accurate. It can be used to make a future predictions"
   ]
  }
 ],
 "metadata": {
  "kernelspec": {
   "display_name": "Python 3",
   "language": "python",
   "name": "python3"
  },
  "language_info": {
   "codemirror_mode": {
    "name": "ipython",
    "version": 3
   },
   "file_extension": ".py",
   "mimetype": "text/x-python",
   "name": "python",
   "nbconvert_exporter": "python",
   "pygments_lexer": "ipython3",
   "version": "3.8.5"
  }
 },
 "nbformat": 4,
 "nbformat_minor": 4
}
